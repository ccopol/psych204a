{
 "metadata": {
  "name": ""
 },
 "nbformat": 3,
 "nbformat_minor": 0,
 "worksheets": [
  {
   "cells": [
    {
     "cell_type": "heading",
     "level": 1,
     "metadata": {},
     "source": [
      "Diffusion"
     ]
    },
    {
     "cell_type": "markdown",
     "metadata": {},
     "source": [
      "**Class:**     Psych 204a\n",
      "\n",
      "**Tutorial:**  Diffusion\n",
      "\n",
      "**Author:**    Dougherty\n",
      "\n",
      "**Date:**      2001.10.31\n",
      "\n",
      "**Duration:**  90 minutes\n",
      "\n",
      "**Copyright:** Stanford University, Robert F. Dougherty\n",
      "\n",
      "Translated to Python by Bob Dougherty, 11/2012 and Grace 10/13\n",
      "\n",
      "\n",
      "The purpose of this tutorial is to illustrate the nature of the data acquired in a diffusion-weighted imaging scan.  The computational methods available for interpreting these data are also introduced."
     ]
    },
    {
     "cell_type": "markdown",
     "metadata": {},
     "source": [
      "First, we'll set up the python environment and define some utility functions that will be used below."
     ]
    },
    {
     "cell_type": "code",
     "collapsed": false,
     "input": [
      "%pylab inline\n",
      "rcParams[\"figure.figsize\"] = (8, 6)\n",
      "rcParams[\"axes.grid\"] = True\n",
      "from IPython.display import display, clear_output\n",
      "from mpl_toolkits.axes_grid1 import make_axes_locatable\n",
      "\n",
      "from time import sleep\n",
      "from __future__ import division\n",
      "\n",
      "def cart2pol(x, y):\n",
      "    theta = arctan2(y, x)\n",
      "    r = sqrt(x ** 2 + y ** 2)\n",
      "    return theta, r\n",
      "\n",
      "def pol2cart(theta, r):\n",
      "    x = r * cos(theta)\n",
      "    y = r * sin(theta)\n",
      "    return x, y"
     ],
     "language": "python",
     "metadata": {},
     "outputs": []
    },
    {
     "cell_type": "markdown",
     "metadata": {},
     "source": [
      "## Self-diffusion of water\n",
      "\n",
      "The self-diffusion coefficient of water (in micrometers<sup>2</sup>/millisecond) is dependent on the temperature and pressure. Several groups have derived quantitative descriptions of the relationship between temperature, pressure, and the diffusion coefficient of water. Here we use the formula presented in:\n",
      "\n",
      "* Krynicki, Green & Sawyer (1978) Pressure and temperature dependence of self-diffusion in water. Faraday Discuss. Chem. Soc., 66, 199 - 208.\n",
      "* Mills (1973) Self-Diffusion in Normal and Heavy Water. JPhysChem 77(5), pg. 685 - 688.\n",
      "* Also see http://www.lsbu.ac.uk/water/explan5.html.\n",
      "\n",
      "Let's start by defining a function that implements the Krynicki formula. The the default value for the pressure parameter will be set to the standard atmospheric pressure at sea level: 101.325 kilo Pascals (kPa)."
     ]
    },
    {
     "cell_type": "code",
     "collapsed": false,
     "input": [
      "def selfDiffusionOfWater(T, P=101.325):\n",
      "    # Implements the Krynicki formula; returns the self-diffusion of water (in micrometers^2/millisec)\n",
      "    # given the temperature T (in Centigrade) and the pressure P (in kPa).\n",
      "    d = 12.5 * exp(P * -5.22 * 1e-6) * sqrt(T + 273.15) * exp(-925 * exp(P * -2.6 * 1e-6)/(T + 273.15 - (95 + P * 2.61 * 1e-4)))\n",
      "    return d"
     ],
     "language": "python",
     "metadata": {},
     "outputs": []
    },
    {
     "cell_type": "markdown",
     "metadata": {},
     "source": [
      "The self-diffusion of water at body temperature and standard pressure, in micrometers<sup>2</sup>/millimeter, is:"
     ]
    },
    {
     "cell_type": "code",
     "collapsed": false,
     "input": [
      "D = selfDiffusionOfWater(37)\n",
      "print \"%f micrometers^2/millisecond\" % D"
     ],
     "language": "python",
     "metadata": {},
     "outputs": []
    },
    {
     "cell_type": "markdown",
     "metadata": {},
     "source": [
      "Now we'll plot D for a biologically meaningful range of temperatures"
     ]
    },
    {
     "cell_type": "code",
     "collapsed": false,
     "input": [
      "T = arange(25,41)\n",
      "D = selfDiffusionOfWater(T)\n",
      "figure()\n",
      "plot(T, D, 'k')\n",
      "xlabel('Temperature (Centigrade)', fontsize=14)\n",
      "ylabel('Self-diffusion ($\\mu$m$^2$/ms)', fontsize=14)\n",
      "plot([37,37], [2,3.4], 'r-')\n",
      "text(37, 3.45, 'Body Temperature', ha='center', color='r', fontsize=12)"
     ],
     "language": "python",
     "metadata": {},
     "outputs": []
    },
    {
     "cell_type": "markdown",
     "metadata": {},
     "source": [
      "### Question 1\n",
      "\n",
      "a. The average atmospheric pressure in Denver Colorado is about 84 kPa.  How different (in percent) is the self-diffusion coefficient of water at body temperature in Denver relative to that in Palo Alto, which is about at sea level?\n",
      "\n",
      "b. Suppose you are running a fever of 40 deg Centigrade. Compared to someone without a fever, how much higher (in percent) is the water diffusion coefficient in your body?"
     ]
    },
    {
     "cell_type": "code",
     "collapsed": false,
     "input": [
      "# compute your answer here\n",
      "\n"
     ],
     "language": "python",
     "metadata": {},
     "outputs": []
    },
    {
     "cell_type": "markdown",
     "metadata": {},
     "source": [
      "## Brownian motion\n",
      "\n",
      "### Set up the diffusion simulation\n",
      "Here we simulate the brownian motion in a small chunk of tissue. First, we define some parameters, including the size of the simulated voxel (in micrometers), the time step (in milliseconds), and the Apparent Diffusion Coefficient (ADC) to simulate (in micrometers<sup>2</sup>/millisecond). Our tissue model will include simple barriers that will roughly approximate the effects of cell membranes, which are relatively impermeable to the free diffusion of water. So we will also define the barrier spacing (in micrometers). Finally, we'll specify the number of particles and time-steps to run."
     ]
    },
    {
     "cell_type": "code",
     "collapsed": false,
     "input": [
      "voxel_size = 50.0    # micrometers\n",
      "ADC = 2.0           # micrometers^2/millisecond)\n",
      "barrier_spacing = 10.0 # micrometers (set this to 0 for no barriers)\n",
      "num_particles = 500\n",
      "\n",
      "def draw_particles(ax, title, xy, particle_color, voxel_size, barrier_spacing):\n",
      "    ax.set_xlabel('X position $(\\mu m)$')\n",
      "    ax.set_ylabel('Y position $(\\mu m)$')\n",
      "    ax.axis('equal')\n",
      "    ax.set_title(title)\n",
      "    ax.set_xlim(-voxel_size/2, voxel_size/2)\n",
      "    ax.set_ylim(-voxel_size/2, voxel_size/2)\n",
      "    if barrier_spacing > 0:\n",
      "        compartments = unique(np.round(xy[1,:] / barrier_spacing))\n",
      "        for c in range(compartments.size):\n",
      "            ax.hlines(compartments[c]*barrier_spacing, -voxel_size/2, voxel_size/2, linewidth=4, colors=[.7, .7, .8], linestyles='solid')\n",
      "    particles = []\n",
      "    for p in range(xy.shape[1]):\n",
      "        particles.append(Circle(xy[:,p], 0.3, color=particle_color[p]))\n",
      "        ax.add_artist(particles[p])\n",
      "    return particles\n",
      "\n",
      "# Place some particles randomly distributed in the volume\n",
      "xy = random.rand(2, num_particles) * voxel_size - voxel_size/2.\n",
      "start_xy = xy\n",
      "particle_color = [((xy[0,p] + voxel_size/2) / voxel_size, (xy[1,p] + voxel_size/2) / voxel_size, .5) for p in range(num_particles)]\n",
      "\n",
      "# draw 'em\n",
      "fig,ax = subplots(1, 1, figsize=(6, 6))\n",
      "particles = draw_particles(ax, 'initial particle positions', xy, particle_color, voxel_size, barrier_spacing)\n"
     ],
     "language": "python",
     "metadata": {},
     "outputs": []
    },
    {
     "cell_type": "markdown",
     "metadata": {},
     "source": [
      "### Run the diffusion simulation\n",
      "\n",
      "In this loop, we update all the particle positions at each time step. The diffusion equation tells us that the final position of a particle moving in Brownian motion can be described by a Gaussian distribution with a standard deviation of sqrt(ADC*timeStep). So we update the current particle position by drawing numbers from a Gaussian with this standard deviation.\n"
     ]
    },
    {
     "cell_type": "code",
     "collapsed": true,
     "input": [
      "import time, sys\n",
      "from IPython.core.display import clear_output\n",
      "\n",
      "time_step = 0.1    # milliseconds\n",
      "nTimeSteps = 100\n",
      "fig,ax = subplots(1, 1, figsize=(6, 6))\n",
      "\n",
      "total_time = 0\n",
      "for t_i in xrange(nTimeSteps):\n",
      "    dxy = np.random.standard_normal(xy.shape) * sqrt(2 * ADC * time_step)\n",
      "    new_xy = xy + dxy\n",
      "    if barrier_spacing>0:\n",
      "        curCompartment = np.round(xy[1,:]/barrier_spacing)\n",
      "        newCompartment = np.round(new_xy[1,:]/barrier_spacing)\n",
      "        for p in xrange(newCompartment.size):\n",
      "            if newCompartment[p]!=curCompartment[p]:\n",
      "                # approximate particles reflecting off the impermeable barrier\n",
      "                new_xy[1,p] = xy[1,p]\n",
      "    xy = new_xy\n",
      "    title = 'elapsed time: %5.2f ms' % (time_step * t_i)\n",
      "    particles = draw_particles(ax, title, xy, particle_color, voxel_size, barrier_spacing)\n",
      "    clear_output(wait=True)\n",
      "    display(fig,ax)\n",
      "    ax.cla()\n",
      "    total_time += time_step\n",
      "close()"
     ],
     "language": "python",
     "metadata": {},
     "outputs": []
    },
    {
     "cell_type": "markdown",
     "metadata": {},
     "source": [
      "### Question 2\n",
      "\n",
      "a. What is the average position change of each particle in the X dimension? In Y? (Hint: start_xy contains the starting positions.)\n",
      "\n",
      "b. What is the average distance that each particle moved? (Hint: compute the Euclidean distance that each moved.)"
     ]
    },
    {
     "cell_type": "code",
     "collapsed": false,
     "input": [
      "# compute your answer here\n"
     ],
     "language": "python",
     "metadata": {},
     "outputs": []
    },
    {
     "cell_type": "markdown",
     "metadata": {},
     "source": [
      "By comparing the particle ending positions (in xy) with their starting positions (in start_xy), we can compute the diffusion tensor. This is essentially just a 2-d Gaussian fit to the position differences, computed using the covariance function (cov). We also need to normalize the positions by the total time that we diffused.\n",
      "\n",
      "The eigensystem of the diffusion tensor (computed using 'eig') describes an isoprobability ellipse through the data points. "
     ]
    },
    {
     "cell_type": "code",
     "collapsed": false,
     "input": [
      "Dt = cov(start_xy - xy) / (2 * total_time)\n",
      "[val,vec] = eig(Dt)\n",
      "estimatedADC = val / total_time\n",
      "principalDiffusionDirection = vec[0]\n",
      "\n",
      "print 'ADC = ' + str(estimatedADC) + '\\nPrincipal Diffusion Direction (PDD) = ' + str(principalDiffusionDirection)"
     ],
     "language": "python",
     "metadata": {},
     "outputs": []
    },
    {
     "cell_type": "markdown",
     "metadata": {},
     "source": [
      "### Question 3\n",
      "\n",
      "a. What are the units of the ADC?\n",
      "\n",
      "b. What are the units of the PDD?"
     ]
    },
    {
     "cell_type": "code",
     "collapsed": false,
     "input": [
      "# compute your answer here\n"
     ],
     "language": "python",
     "metadata": {},
     "outputs": []
    },
    {
     "cell_type": "markdown",
     "metadata": {},
     "source": [
      "Now lets show the particle starting positions a little line segment showing where each moved to."
     ]
    },
    {
     "cell_type": "code",
     "collapsed": false,
     "input": [
      "fig,ax = subplots(1, 1, figsize=(6, 6))\n",
      "start_p = draw_particles(ax, 'initial particle positions', start_xy, particle_color, voxel_size, barrier_spacing)\n",
      "for p in range(num_particles):\n",
      "    ax.plot((start_xy[0,p], xy[0,p]), (start_xy[1,p], xy[1,p]), linewidth=1, color=[.5, .5, .5], linestyle='solid')"
     ],
     "language": "python",
     "metadata": {},
     "outputs": []
    },
    {
     "cell_type": "markdown",
     "metadata": {},
     "source": [
      "### Question 4\n",
      "\n",
      "a. Run the simulation with and without barriers by adjusting the 'barrierSpacing' variable. How does the diffusion tensor change?\n",
      "\n",
      "b. Adjust the barrier spacing. What effect does this have on the princpal diffusion direction? On the estimatedADC values?\n",
      "\n",
      "c. With barriers in place, reduce the number of time steps (nTimeSteps). How does this affect the estimated ADC values? Explore the interaction between the barrier spacing and the number of time steps."
     ]
    },
    {
     "cell_type": "code",
     "collapsed": false,
     "input": [
      "# compute your answer here\n",
      "\n"
     ],
     "language": "python",
     "metadata": {},
     "outputs": []
    },
    {
     "cell_type": "markdown",
     "metadata": {},
     "source": [
      "# The effect of diffusion on the MR signal\n",
      "We'll simulate an image that represents a vial of water in a 3 Tesla magnetic field. The image intensity at each point will represent the local magnetic field strength, expressed as the Larmor frequency difference between that region and the frequency at 3 T.\n",
      "\n",
      "First let's define some parameters, such as the simulated filed strength (B0) and the gyromagnetic ratio for Hydrogen:"
     ]
    },
    {
     "cell_type": "code",
     "collapsed": false,
     "input": [
      "B0 = 3.0                     # Magnetic field strength (Tesla)\n",
      "gyromagneticRatio = 42.58e+6 # Gyromagnetic constant for hydrogen (Hz / Tesla)\n",
      "\n",
      "# The Larmor frequency (in Hz) of Hydrogen spins in this magnet is:\n",
      "spinFreq = gyromagneticRatio * B0"
     ],
     "language": "python",
     "metadata": {},
     "outputs": []
    },
    {
     "cell_type": "markdown",
     "metadata": {},
     "source": [
      "### Question 4\n",
      "\n",
      "a. What is the Larmour frequency of Hydrogen spins at 3T? \n",
      "\n",
      "b. What is it at 7T?"
     ]
    },
    {
     "cell_type": "code",
     "collapsed": false,
     "input": [
      "# compute your answer here\n"
     ],
     "language": "python",
     "metadata": {},
     "outputs": []
    },
    {
     "cell_type": "markdown",
     "metadata": {},
     "source": [
      "### Simulate spins in an MR experiment\n",
      "\n",
      "We start by defining the size of our simulated voxel, in micrometers. For the diffusion gradients, we'll start with the Y gradient turned off and the X gradient set to 5e-8 Tesla per micrometer (that's 50 mT/m, a typical gradient strengh for clinical MR scanners). We'll also quantize space into 100 regions and use meshgrid to lay these out into 2d arrays that be used to compute a 100x100 image. Finally, we compute the relative field strength at each spatial location across our simulated voxel. Gradient strengths are symmetric about the  center. To understand the following expression, work through the units: (micrometers * T/um + micrometers * T/um) leaves us with T. We scale this by 1e6 to express the resulting image in micro-Teslas"
     ]
    },
    {
     "cell_type": "code",
     "collapsed": false,
     "input": [
      "voxelSize = 100.0 # micrometers\n",
      "gx = 5e-8 # Tesla / micrometer\n",
      "gy = 0.0  # Tesla / micrometer\n",
      "\n",
      "def draw_spins(ax, title, field_image, im_unit, sx, sy, px, py):\n",
      "    # a function to draw spin-packets\n",
      "    # draw the relative magnetic field map image\n",
      "    im = ax.imshow(field_image, extent=im_unit+im_unit, cmap=matplotlib.cm.bone)\n",
      "    ax.set_ylabel('Y position (micrometers)')\n",
      "    ax.set_xlabel('X position (micrometers)')\n",
      "    ax.set_title(title)\n",
      "    \n",
      "    # Place some spin packets in there:\n",
      "    ax.scatter(x=sx+px, y=sy+py, color='r', s=3)\n",
      "    ax.scatter(x=sx, y=sy, color='c', s=3)\n",
      "    ax.set_xlim(im_unit)\n",
      "    ax.set_ylim(im_unit)\n",
      "\n",
      "    # add a colorbar\n",
      "    divider = make_axes_locatable(ax)\n",
      "    cax = divider.append_axes(\"bottom\", size=\"7%\", pad=0.5)\n",
      "    cbl = fig.colorbar(im, cax=cax, orientation='horizontal')\n",
      "    cbl.set_label('Relative field strength (micro Tesla)')\n",
      "\n",
      "im_unit = (-voxelSize/2, voxelSize/2)\n",
      "x = linspace(im_unit[0], im_unit[1], 100)\n",
      "y = linspace(im_unit[0], im_unit[1], 100)\n",
      "[X,Y] = meshgrid(x,y)\n",
      "# micrometers * Tesla/micrometer * 1e6 = microTesla\n",
      "relative_field_image = (X*gx + Y*gy) * 1e6\n",
      "\n",
      "locations = linspace(-voxelSize/2+voxelSize/10, voxelSize/2-voxelSize/10, 5)\n",
      "sx,sy = meshgrid(locations, locations);\n",
      "sx = sx.flatten()\n",
      "sy = sy.flatten()\n",
      "# set the phase/magnitude to be zero\n",
      "px = zeros(sx.shape)\n",
      "py = zeros(sy.shape)\n",
      "\n",
      "fig,ax = subplots(1, 1)\n",
      "draw_spins(ax, 'Spin packets at rest in a gradient', relative_field_image, im_unit, sx, sy, px, py)"
     ],
     "language": "python",
     "metadata": {},
     "outputs": []
    },
    {
     "cell_type": "markdown",
     "metadata": {},
     "source": [
      "Calculate the relative spin frequency at each spin location. Our gradient strengths are expressed as T/cm and are symmetric about the center of the voxelSize. To understand the following expression, work through the units: (centimeters * T/cm + centimeters * T/cm) * Hz/Tesla + Tesla*Hz/Tesla leaves us with MHz\n"
     ]
    },
    {
     "cell_type": "code",
     "collapsed": false,
     "input": [
      "spinFreq = (sx * gx + sy * gy) * gyromagneticRatio + B0 * gyromagneticRatio\n",
      "print spinFreq"
     ],
     "language": "python",
     "metadata": {},
     "outputs": []
    },
    {
     "cell_type": "markdown",
     "metadata": {},
     "source": [
      "Note that including the B0 field in this equation simply adds an offset to the spin frequency. For most purposes, we usually only care about the spin frequency relative to the B0 frequency (i.e., the rotating frame of reference), so we can leave that last term off and compute relative frequencies (in Hz):"
     ]
    },
    {
     "cell_type": "code",
     "collapsed": false,
     "input": [
      "relativeSpinFreq = (sx * gx + sy * gy) * gyromagneticRatio\n",
      "print relativeSpinFreq"
     ],
     "language": "python",
     "metadata": {},
     "outputs": []
    },
    {
     "cell_type": "markdown",
     "metadata": {},
     "source": [
      "### Question 5\n",
      "\n",
      "a. Speculate on why the relative spin frequency is the most important value to calculate here.\n",
      "\n",
      "b. Do you think the B0 field strength will play a role in the calculation of the diffusion tensor?"
     ]
    },
    {
     "cell_type": "code",
     "collapsed": false,
     "input": [
      "# compute your answer here\n"
     ],
     "language": "python",
     "metadata": {},
     "outputs": []
    },
    {
     "cell_type": "markdown",
     "metadata": {},
     "source": [
      "#### Display the relative frequencies (in Hz)\n",
      "\n",
      "When we first apply an RF pulse, all the spins will all precess in phase. If they are all experienceing the same magnetic field, they will remain in phase. However, if some spins experience a different local field, they will become out of phase with the others. Let's show this with a movie, where the phase will be represented with color. Our timestep is 1 millisecond."
     ]
    },
    {
     "cell_type": "code",
     "collapsed": false,
     "input": [
      "fig,ax = subplots(1, 1)\n",
      "\n",
      "timeStep = .001\n",
      "\n",
      "# Initialize the transverse magnitization to reflect a 90 deg RF pulse.\n",
      "# The scale here is arbitrary and is selected simply to make a nice plot.\n",
      "Mxy0 = 5\n",
      "# Set the T2 value of the spins (in seconds)\n",
      "T2 = 0.07\n",
      "\n",
      "curPhase = zeros(sx.size)\n",
      "t = 0.\n",
      "nTimeSteps = 50\n",
      "for ti in range(nTimeSteps):\n",
      "    # Update the current phase based on the spin's precession rate, which is a function\n",
      "    # of its local magnetic field.\n",
      "    curPhase = curPhase + 2*pi*gyromagneticRatio * (sx*gx+sy*gy) * timeStep\n",
      "    # Do a 180 flip at the TE/2:\n",
      "    if ti==round(nTimeSteps/2.):\n",
      "        curPhase = -curPhase\n",
      "    # The transverse magnitization magnitude decays with the T2:\n",
      "    curMagnitude = Mxy0 * exp(-t/T2)\n",
      "    px = sin(curPhase) * curMagnitude\n",
      "    py = cos(curPhase) * curMagnitude\n",
      "    # Summarize the total (relative) MR signal for this iteration\n",
      "    S = sqrt(sum(px**2 + py**2)) / sx.size\n",
      "        \n",
      "    title = 'elapsed time: %5.1f/%5.1f ms' % (timeStep*t*1000., timeStep*(nTimeSteps-1))\n",
      "    draw_spins(ax, title, relative_field_image, im_unit, sx, sy, px, py)\n",
      "    clear_output(wait=True)\n",
      "    display(fig,ax)\n",
      "    ax.cla()\n",
      "    t = t+timeStep\n",
      "\n",
      "close()"
     ],
     "language": "python",
     "metadata": {},
     "outputs": []
    },
    {
     "cell_type": "markdown",
     "metadata": {},
     "source": [
      "Developer notes:\n",
      "\n",
      "* convert animations to use http://nbviewer.ipython.org/url/jakevdp.github.io/downloads/notebooks/MagicTriangle.ipynb\n",
      "* add animation that shows particles moving through the gradient"
     ]
    },
    {
     "cell_type": "code",
     "collapsed": false,
     "input": [],
     "language": "python",
     "metadata": {},
     "outputs": []
    }
   ],
   "metadata": {}
  }
 ]
}

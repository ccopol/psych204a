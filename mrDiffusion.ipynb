{
 "metadata": {
  "name": "mrDiffusion"
 },
 "nbformat": 3,
 "nbformat_minor": 0,
 "worksheets": [
  {
   "cells": [
    {
     "cell_type": "heading",
     "level": 1,
     "metadata": {},
     "source": [
      "Diffusion"
     ]
    },
    {
     "cell_type": "markdown",
     "metadata": {},
     "source": [
      "**Class:**     Psych 204a\n",
      "\n",
      "**Tutorial:**  Diffusion\n",
      "\n",
      "**Author:**    Dougherty\n",
      "\n",
      "**Date:**      2001.10.31\n",
      "\n",
      "**Duration:**  90 minutes\n",
      "\n",
      "**Copyright:** Stanford University, Robert F. Dougherty\n",
      "\n",
      "Translated to Python by Bob Dougherty, 11/2012 and Grace 10/13\n",
      "\n",
      "\n",
      "The purpose of this tutorial is to illustrate the nature of the data acquired in a diffusion-weighted imaging scan.  The computational methods available for interpreting these data are also introduced."
     ]
    },
    {
     "cell_type": "markdown",
     "metadata": {},
     "source": [
      "First, we'll set up the python environment and define some utility functions that will be used below."
     ]
    },
    {
     "cell_type": "code",
     "collapsed": false,
     "input": [
      "%pylab inline\n",
      "rcParams[\"figure.figsize\"] = (8, 6)\n",
      "rcParams[\"axes.grid\"] = True\n",
      "from IPython.display import display, clear_output\n",
      "from mpl_toolkits.axes_grid1 import make_axes_locatable\n",
      "\n",
      "from time import sleep\n",
      "from __future__ import division\n",
      "\n",
      "def cart2pol(x, y):\n",
      "    theta = arctan2(y, x)\n",
      "    r = sqrt(x ** 2 + y ** 2)\n",
      "    return theta, r\n",
      "\n",
      "def pol2cart(theta, r):\n",
      "    x = r * cos(theta)\n",
      "    y = r * sin(theta)\n",
      "    return x, y"
     ],
     "language": "python",
     "metadata": {},
     "outputs": [
      {
       "output_type": "stream",
       "stream": "stdout",
       "text": [
        "\n",
        "Welcome to pylab, a matplotlib-based Python environment [backend: module://IPython.kernel.zmq.pylab.backend_inline].\n",
        "For more information, type 'help(pylab)'.\n"
       ]
      }
     ],
     "prompt_number": 1
    },
    {
     "cell_type": "markdown",
     "metadata": {},
     "source": [
      "## Self-diffusion of water\n",
      "\n",
      "The self-diffusion coefficient of water (in micrometers<sup>2</sup>/millisecond) is dependent on the temperature and pressure. Several groups have derived quantitative descriptions of the relationship between temperature, pressure, and the diffusion coefficient of water. Here we use the formula presented in:\n",
      "\n",
      "* Krynicki, Green & Sawyer (1978) Pressure and temperature dependence of self-diffusion in water. Faraday Discuss. Chem. Soc., 66, 199 - 208.\n",
      "* Mills (1973) Self-Diffusion in Normal and Heavy Water. JPhysChem 77(5), pg. 685 - 688.\n",
      "* Also see http://www.lsbu.ac.uk/water/explan5.html.\n",
      "\n",
      "Let's start by defining a funtion that implements the Krynicki formula. The the default value for the pressure parameter will be set to the standard atmospheric pressure at sea level: 101.325 kilo Pascals (kPa)."
     ]
    },
    {
     "cell_type": "code",
     "collapsed": false,
     "input": [
      "def selfDiffusionOfWater(T, P=101.325):\n",
      "    # Implements the Krynicki formula; returns the self-diffusion of water (in micrometers^2/millisec)\n",
      "    # given the temperature T (in Centigrade) and the pressure P (in kPa).\n",
      "    d = 12.5 * exp(P * -5.22 * 1e-6) * sqrt(T + 273.15) * exp(-925 * exp(P * -2.6 * 1e-6)/(T + 273.15 - (95 + P * 2.61 * 1e-4)))\n",
      "    return d"
     ],
     "language": "python",
     "metadata": {},
     "outputs": [],
     "prompt_number": 2
    },
    {
     "cell_type": "markdown",
     "metadata": {},
     "source": [
      "The self-diffusion of water at body temperature and standard pressure, in micrometers<sup>2</sup>/millimeter, is:"
     ]
    },
    {
     "cell_type": "code",
     "collapsed": false,
     "input": [
      "D = selfDiffusionOfWater(37)\n",
      "print \"%f micrometers^2/millisecond\" % D"
     ],
     "language": "python",
     "metadata": {},
     "outputs": [
      {
       "output_type": "stream",
       "stream": "stdout",
       "text": [
        "2.989200 micrometers^2/millisecond\n"
       ]
      }
     ],
     "prompt_number": 5
    },
    {
     "cell_type": "markdown",
     "metadata": {},
     "source": [
      "Now we'll plot D for a biologically meaningful range of temperatures"
     ]
    },
    {
     "cell_type": "code",
     "collapsed": false,
     "input": [
      "T = arange(25,41)\n",
      "D = selfDiffusionOfWater(T)\n",
      "figure()\n",
      "plot(T, D, 'k')\n",
      "xlabel('Temperature (Centigrade)', fontsize=14)\n",
      "ylabel('Self-diffusion ($\\mu$m$^2$/ms)', fontsize=14)\n",
      "plot([37,37], [2,3.4], 'r-')\n",
      "text(37, 3.45, 'Body Temperature', ha='center', color='r', fontsize=12)"
     ],
     "language": "python",
     "metadata": {},
     "outputs": [
      {
       "output_type": "pyout",
       "prompt_number": 6,
       "text": [
        "<matplotlib.text.Text at 0x34ea850>"
       ]
      },
      {
       "output_type": "display_data",
       "png": "[encoded data removed]",
       "text": [
        "<matplotlib.figure.Figure at 0x34710d0>"
       ]
      }
     ],
     "prompt_number": 6
    },
    {
     "cell_type": "markdown",
     "metadata": {},
     "source": [
      "### Question 1\n",
      "\n",
      "a. The average atmospheric pressure in Denver Colorado is about 84 kPa.  How different (in percent) is the self-diffusion coefficient of water at body temperature in Denver relative to that in Palo Alto, which is about at sea level?\n",
      "\n",
      "b. Suppose you are running a fever of 40 deg Centigrade. Compared to someone without a fever, how much higher (in percent) is the water diffusion coefficient in your body?"
     ]
    },
    {
     "cell_type": "code",
     "collapsed": false,
     "input": [
      "# compute your answer here\n",
      "\n"
     ],
     "language": "python",
     "metadata": {},
     "outputs": [
      {
       "output_type": "pyout",
       "prompt_number": 9,
       "text": [
        "-0.00128438437265264"
       ]
      }
     ],
     "prompt_number": 9
    },
    {
     "cell_type": "markdown",
     "metadata": {},
     "source": [
      "## Brownian motion\n",
      "\n",
      "### Set up the diffusion simulation\n",
      "Here we simulate the brownian motion in a small chunk of tissue. First, we define some parameters, including the size of the simulated voxel (in micrometers), the time step (in milliseconds), and the Apparent Diffusion Coefficient (ADC) to simulate (in micrometers<sup>2</sup>/millisecond). Our tissue model will include simple barriers that will roughly approximate the effects of cell membranes, which are relatively impermeable to the free diffusion of water. So we will also define the barrier spacing (in micrometers). Finally, we'll specify the number of particles and time-steps to run."
     ]
    },
    {
     "cell_type": "code",
     "collapsed": false,
     "input": [
      "particle"
     ],
     "language": "python",
     "metadata": {},
     "outputs": [
      {
       "output_type": "pyout",
       "prompt_number": 71,
       "text": [
        "[<matplotlib.patches.Circle at 0x50ba2d0>,\n",
        " <matplotlib.patches.Circle at 0x50ba650>,\n",
        " <matplotlib.patches.Circle at 0x50baa50>,\n",
        " <matplotlib.patches.Circle at 0x50bae50>,\n",
        " <matplotlib.patches.Circle at 0x509b290>,\n",
        " <matplotlib.patches.Circle at 0x509b690>,\n",
        " <matplotlib.patches.Circle at 0x509ba90>,\n",
        " <matplotlib.patches.Circle at 0x509be90>,\n",
        " <matplotlib.patches.Circle at 0x50912d0>,\n",
        " <matplotlib.patches.Circle at 0x50916d0>,\n",
        " <matplotlib.patches.Circle at 0x5091ad0>,\n",
        " <matplotlib.patches.Circle at 0x5091ed0>,\n",
        " <matplotlib.patches.Circle at 0x5660310>,\n",
        " <matplotlib.patches.Circle at 0x5660710>,\n",
        " <matplotlib.patches.Circle at 0x5660b10>,\n",
        " <matplotlib.patches.Circle at 0x5660f10>,\n",
        " <matplotlib.patches.Circle at 0x5678350>,\n",
        " <matplotlib.patches.Circle at 0x5678750>,\n",
        " <matplotlib.patches.Circle at 0x5678b50>,\n",
        " <matplotlib.patches.Circle at 0x5678f50>,\n",
        " <matplotlib.patches.Circle at 0x567e390>,\n",
        " <matplotlib.patches.Circle at 0x567e790>,\n",
        " <matplotlib.patches.Circle at 0x567eb90>,\n",
        " <matplotlib.patches.Circle at 0x567ef90>,\n",
        " <matplotlib.patches.Circle at 0x565d3d0>,\n",
        " <matplotlib.patches.Circle at 0x565d7d0>,\n",
        " <matplotlib.patches.Circle at 0x565dbd0>,\n",
        " <matplotlib.patches.Circle at 0x565dfd0>,\n",
        " <matplotlib.patches.Circle at 0x452c410>,\n",
        " <matplotlib.patches.Circle at 0x452c810>,\n",
        " <matplotlib.patches.Circle at 0x452cc10>,\n",
        " <matplotlib.patches.Circle at 0x4501050>,\n",
        " <matplotlib.patches.Circle at 0x4501450>,\n",
        " <matplotlib.patches.Circle at 0x4501850>,\n",
        " <matplotlib.patches.Circle at 0x4501c50>,\n",
        " <matplotlib.patches.Circle at 0x4532090>,\n",
        " <matplotlib.patches.Circle at 0x4532490>,\n",
        " <matplotlib.patches.Circle at 0x4532890>,\n",
        " <matplotlib.patches.Circle at 0x4532c90>,\n",
        " <matplotlib.patches.Circle at 0x44fc0d0>,\n",
        " <matplotlib.patches.Circle at 0x44fc4d0>,\n",
        " <matplotlib.patches.Circle at 0x44fc8d0>,\n",
        " <matplotlib.patches.Circle at 0x5693210>,\n",
        " <matplotlib.patches.Circle at 0x4e06610>,\n",
        " <matplotlib.patches.Circle at 0x50c7b50>,\n",
        " <matplotlib.patches.Circle at 0x50b7210>,\n",
        " <matplotlib.patches.Circle at 0x3a54c50>,\n",
        " <matplotlib.patches.Circle at 0x69e8050>,\n",
        " <matplotlib.patches.Circle at 0x69e8450>,\n",
        " <matplotlib.patches.Circle at 0x69e8850>,\n",
        " <matplotlib.patches.Circle at 0x69e8c50>,\n",
        " <matplotlib.patches.Circle at 0x69d6090>,\n",
        " <matplotlib.patches.Circle at 0x69d6490>,\n",
        " <matplotlib.patches.Circle at 0x69d6890>,\n",
        " <matplotlib.patches.Circle at 0x69d6c90>,\n",
        " <matplotlib.patches.Circle at 0x6a040d0>,\n",
        " <matplotlib.patches.Circle at 0x6a044d0>,\n",
        " <matplotlib.patches.Circle at 0x6a048d0>,\n",
        " <matplotlib.patches.Circle at 0x6a04cd0>,\n",
        " <matplotlib.patches.Circle at 0x69eb110>,\n",
        " <matplotlib.patches.Circle at 0x69eb510>,\n",
        " <matplotlib.patches.Circle at 0x69eb910>,\n",
        " <matplotlib.patches.Circle at 0x69ebd10>,\n",
        " <matplotlib.patches.Circle at 0x69db150>,\n",
        " <matplotlib.patches.Circle at 0x69db550>,\n",
        " <matplotlib.patches.Circle at 0x69db950>,\n",
        " <matplotlib.patches.Circle at 0x69dbd50>,\n",
        " <matplotlib.patches.Circle at 0x4723190>,\n",
        " <matplotlib.patches.Circle at 0x4723590>,\n",
        " <matplotlib.patches.Circle at 0x4723990>,\n",
        " <matplotlib.patches.Circle at 0x4723d90>,\n",
        " <matplotlib.patches.Circle at 0x46fd1d0>,\n",
        " <matplotlib.patches.Circle at 0x46fd5d0>,\n",
        " <matplotlib.patches.Circle at 0x46fd9d0>,\n",
        " <matplotlib.patches.Circle at 0x46fddd0>,\n",
        " <matplotlib.patches.Circle at 0x4704210>,\n",
        " <matplotlib.patches.Circle at 0x4704610>,\n",
        " <matplotlib.patches.Circle at 0x4704a10>,\n",
        " <matplotlib.patches.Circle at 0x4704e10>,\n",
        " <matplotlib.patches.Circle at 0x470c250>,\n",
        " <matplotlib.patches.Circle at 0x470c650>,\n",
        " <matplotlib.patches.Circle at 0x470ca50>,\n",
        " <matplotlib.patches.Circle at 0x470ce50>,\n",
        " <matplotlib.patches.Circle at 0x472e290>,\n",
        " <matplotlib.patches.Circle at 0x472e690>,\n",
        " <matplotlib.patches.Circle at 0x472ea90>,\n",
        " <matplotlib.patches.Circle at 0x472ee90>,\n",
        " <matplotlib.patches.Circle at 0x46fe2d0>,\n",
        " <matplotlib.patches.Circle at 0x46fe6d0>,\n",
        " <matplotlib.patches.Circle at 0x46fead0>,\n",
        " <matplotlib.patches.Circle at 0x46feed0>,\n",
        " <matplotlib.patches.Circle at 0x4669310>,\n",
        " <matplotlib.patches.Circle at 0x4669710>,\n",
        " <matplotlib.patches.Circle at 0x4669b10>,\n",
        " <matplotlib.patches.Circle at 0x4669f10>,\n",
        " <matplotlib.patches.Circle at 0x4675350>,\n",
        " <matplotlib.patches.Circle at 0x4675750>,\n",
        " <matplotlib.patches.Circle at 0x4675b50>,\n",
        " <matplotlib.patches.Circle at 0x4675f50>,\n",
        " <matplotlib.patches.Circle at 0x467a390>,\n",
        " <matplotlib.patches.Circle at 0x467a790>,\n",
        " <matplotlib.patches.Circle at 0x467ab90>,\n",
        " <matplotlib.patches.Circle at 0x467af90>,\n",
        " <matplotlib.patches.Circle at 0x46883d0>,\n",
        " <matplotlib.patches.Circle at 0x46887d0>,\n",
        " <matplotlib.patches.Circle at 0x4688bd0>,\n",
        " <matplotlib.patches.Circle at 0x4688fd0>,\n",
        " <matplotlib.patches.Circle at 0x466f410>,\n",
        " <matplotlib.patches.Circle at 0x466f810>,\n",
        " <matplotlib.patches.Circle at 0x466fc10>,\n",
        " <matplotlib.patches.Circle at 0x4687050>,\n",
        " <matplotlib.patches.Circle at 0x4687450>,\n",
        " <matplotlib.patches.Circle at 0x4687850>,\n",
        " <matplotlib.patches.Circle at 0x4687c50>,\n",
        " <matplotlib.patches.Circle at 0x4671090>,\n",
        " <matplotlib.patches.Circle at 0x4671490>,\n",
        " <matplotlib.patches.Circle at 0x4671890>,\n",
        " <matplotlib.patches.Circle at 0x4671c90>,\n",
        " <matplotlib.patches.Circle at 0x4d9f0d0>,\n",
        " <matplotlib.patches.Circle at 0x4d9f4d0>,\n",
        " <matplotlib.patches.Circle at 0x4d9f8d0>,\n",
        " <matplotlib.patches.Circle at 0x4d9fcd0>,\n",
        " <matplotlib.patches.Circle at 0x4d94110>,\n",
        " <matplotlib.patches.Circle at 0x4d94510>,\n",
        " <matplotlib.patches.Circle at 0x4d94910>,\n",
        " <matplotlib.patches.Circle at 0x4d94d10>,\n",
        " <matplotlib.patches.Circle at 0x4dc2150>,\n",
        " <matplotlib.patches.Circle at 0x4dc2550>,\n",
        " <matplotlib.patches.Circle at 0x4dc2950>,\n",
        " <matplotlib.patches.Circle at 0x4dc2d50>,\n",
        " <matplotlib.patches.Circle at 0x4dc4190>,\n",
        " <matplotlib.patches.Circle at 0x4dc4590>,\n",
        " <matplotlib.patches.Circle at 0x4dc4990>,\n",
        " <matplotlib.patches.Circle at 0x4dc4d90>,\n",
        " <matplotlib.patches.Circle at 0x4d931d0>,\n",
        " <matplotlib.patches.Circle at 0x4d935d0>,\n",
        " <matplotlib.patches.Circle at 0x4d939d0>,\n",
        " <matplotlib.patches.Circle at 0x4d93dd0>,\n",
        " <matplotlib.patches.Circle at 0x4dbc210>,\n",
        " <matplotlib.patches.Circle at 0x4dbc610>,\n",
        " <matplotlib.patches.Circle at 0x4dbca10>,\n",
        " <matplotlib.patches.Circle at 0x4dbce10>,\n",
        " <matplotlib.patches.Circle at 0x4c78250>,\n",
        " <matplotlib.patches.Circle at 0x4c78650>,\n",
        " <matplotlib.patches.Circle at 0x4c78a50>,\n",
        " <matplotlib.patches.Circle at 0x4c78e50>,\n",
        " <matplotlib.patches.Circle at 0x4c51290>,\n",
        " <matplotlib.patches.Circle at 0x4c51690>,\n",
        " <matplotlib.patches.Circle at 0x4c51a90>,\n",
        " <matplotlib.patches.Circle at 0x4c51e90>,\n",
        " <matplotlib.patches.Circle at 0x4c7f2d0>,\n",
        " <matplotlib.patches.Circle at 0x4c7f6d0>,\n",
        " <matplotlib.patches.Circle at 0x4c7fad0>,\n",
        " <matplotlib.patches.Circle at 0x4c7fed0>,\n",
        " <matplotlib.patches.Circle at 0x4c52310>,\n",
        " <matplotlib.patches.Circle at 0x4c52710>,\n",
        " <matplotlib.patches.Circle at 0x4c52b10>,\n",
        " <matplotlib.patches.Circle at 0x4c52f10>,\n",
        " <matplotlib.patches.Circle at 0x4c6a350>,\n",
        " <matplotlib.patches.Circle at 0x4c6a750>,\n",
        " <matplotlib.patches.Circle at 0x4c6ab50>,\n",
        " <matplotlib.patches.Circle at 0x4c6af50>,\n",
        " <matplotlib.patches.Circle at 0x4c60390>,\n",
        " <matplotlib.patches.Circle at 0x4c60790>,\n",
        " <matplotlib.patches.Circle at 0x4c60b90>,\n",
        " <matplotlib.patches.Circle at 0x4c60f90>,\n",
        " <matplotlib.patches.Circle at 0x4c793d0>,\n",
        " <matplotlib.patches.Circle at 0x4c797d0>,\n",
        " <matplotlib.patches.Circle at 0x4c79bd0>,\n",
        " <matplotlib.patches.Circle at 0x4c79fd0>,\n",
        " <matplotlib.patches.Circle at 0x4d6c410>,\n",
        " <matplotlib.patches.Circle at 0x4d6c810>,\n",
        " <matplotlib.patches.Circle at 0x4d6cc10>,\n",
        " <matplotlib.patches.Circle at 0x4d70050>,\n",
        " <matplotlib.patches.Circle at 0x4d70450>,\n",
        " <matplotlib.patches.Circle at 0x4d70850>,\n",
        " <matplotlib.patches.Circle at 0x4d70c50>,\n",
        " <matplotlib.patches.Circle at 0x4d71090>,\n",
        " <matplotlib.patches.Circle at 0x4d71490>,\n",
        " <matplotlib.patches.Circle at 0x4d71890>,\n",
        " <matplotlib.patches.Circle at 0x4d71c90>,\n",
        " <matplotlib.patches.Circle at 0x4d780d0>,\n",
        " <matplotlib.patches.Circle at 0x4d784d0>,\n",
        " <matplotlib.patches.Circle at 0x4d788d0>,\n",
        " <matplotlib.patches.Circle at 0x4d78cd0>,\n",
        " <matplotlib.patches.Circle at 0x4d75110>,\n",
        " <matplotlib.patches.Circle at 0x4d75510>,\n",
        " <matplotlib.patches.Circle at 0x4d75910>,\n",
        " <matplotlib.patches.Circle at 0x4d75d10>,\n",
        " <matplotlib.patches.Circle at 0x4d7a150>,\n",
        " <matplotlib.patches.Circle at 0x4d7a550>,\n",
        " <matplotlib.patches.Circle at 0x4d7a950>,\n",
        " <matplotlib.patches.Circle at 0x4d7ad50>,\n",
        " <matplotlib.patches.Circle at 0x4d7e190>,\n",
        " <matplotlib.patches.Circle at 0x4d7e590>,\n",
        " <matplotlib.patches.Circle at 0x4d7e990>,\n",
        " <matplotlib.patches.Circle at 0x4d7ed90>,\n",
        " <matplotlib.patches.Circle at 0x4e0c1d0>,\n",
        " <matplotlib.patches.Circle at 0x4e0c5d0>,\n",
        " <matplotlib.patches.Circle at 0x4e0c9d0>,\n",
        " <matplotlib.patches.Circle at 0x4e0cdd0>,\n",
        " <matplotlib.patches.Circle at 0x4e19210>,\n",
        " <matplotlib.patches.Circle at 0x4e19610>,\n",
        " <matplotlib.patches.Circle at 0x4e19a10>,\n",
        " <matplotlib.patches.Circle at 0x4e19e10>,\n",
        " <matplotlib.patches.Circle at 0x4dff250>,\n",
        " <matplotlib.patches.Circle at 0x4dff650>,\n",
        " <matplotlib.patches.Circle at 0x4dffa50>,\n",
        " <matplotlib.patches.Circle at 0x4dffe50>,\n",
        " <matplotlib.patches.Circle at 0x4e0f290>,\n",
        " <matplotlib.patches.Circle at 0x4e0f690>,\n",
        " <matplotlib.patches.Circle at 0x4e0fa90>,\n",
        " <matplotlib.patches.Circle at 0x4e0fe90>,\n",
        " <matplotlib.patches.Circle at 0x4e242d0>,\n",
        " <matplotlib.patches.Circle at 0x4e246d0>,\n",
        " <matplotlib.patches.Circle at 0x4e24ad0>,\n",
        " <matplotlib.patches.Circle at 0x4e24ed0>,\n",
        " <matplotlib.patches.Circle at 0x4e11310>,\n",
        " <matplotlib.patches.Circle at 0x4e11710>,\n",
        " <matplotlib.patches.Circle at 0x4e11b10>,\n",
        " <matplotlib.patches.Circle at 0x4e11f10>,\n",
        " <matplotlib.patches.Circle at 0x4e2e350>,\n",
        " <matplotlib.patches.Circle at 0x4e2e750>,\n",
        " <matplotlib.patches.Circle at 0x4e2eb50>,\n",
        " <matplotlib.patches.Circle at 0x4e2ef50>,\n",
        " <matplotlib.patches.Circle at 0x4e26390>,\n",
        " <matplotlib.patches.Circle at 0x4e26790>,\n",
        " <matplotlib.patches.Circle at 0x4e26b90>,\n",
        " <matplotlib.patches.Circle at 0x4e26f90>,\n",
        " <matplotlib.patches.Circle at 0x4fc93d0>,\n",
        " <matplotlib.patches.Circle at 0x4fc97d0>,\n",
        " <matplotlib.patches.Circle at 0x4fc9bd0>,\n",
        " <matplotlib.patches.Circle at 0x4fc9fd0>,\n",
        " <matplotlib.patches.Circle at 0x4fac410>,\n",
        " <matplotlib.patches.Circle at 0x4fac810>,\n",
        " <matplotlib.patches.Circle at 0x4facc10>,\n",
        " <matplotlib.patches.Circle at 0x4fa8050>,\n",
        " <matplotlib.patches.Circle at 0x4fa8450>,\n",
        " <matplotlib.patches.Circle at 0x4fa8850>,\n",
        " <matplotlib.patches.Circle at 0x4fa8c50>,\n",
        " <matplotlib.patches.Circle at 0x4fbb090>,\n",
        " <matplotlib.patches.Circle at 0x4fbb490>,\n",
        " <matplotlib.patches.Circle at 0x4fbb890>,\n",
        " <matplotlib.patches.Circle at 0x4fbbc90>,\n",
        " <matplotlib.patches.Circle at 0x4fc00d0>,\n",
        " <matplotlib.patches.Circle at 0x4fc04d0>,\n",
        " <matplotlib.patches.Circle at 0x4fc08d0>,\n",
        " <matplotlib.patches.Circle at 0x4fc0cd0>,\n",
        " <matplotlib.patches.Circle at 0x4fa9110>,\n",
        " <matplotlib.patches.Circle at 0x4fa9510>,\n",
        " <matplotlib.patches.Circle at 0x4fa9910>,\n",
        " <matplotlib.patches.Circle at 0x4fa9d10>,\n",
        " <matplotlib.patches.Circle at 0x4fcb150>,\n",
        " <matplotlib.patches.Circle at 0x4fcb550>,\n",
        " <matplotlib.patches.Circle at 0x4fcb950>,\n",
        " <matplotlib.patches.Circle at 0x4fcbd50>,\n",
        " <matplotlib.patches.Circle at 0x4f9a190>,\n",
        " <matplotlib.patches.Circle at 0x4f9a590>,\n",
        " <matplotlib.patches.Circle at 0x4f9a990>,\n",
        " <matplotlib.patches.Circle at 0x4f9ad90>,\n",
        " <matplotlib.patches.Circle at 0x65af1d0>,\n",
        " <matplotlib.patches.Circle at 0x65af5d0>,\n",
        " <matplotlib.patches.Circle at 0x65af9d0>,\n",
        " <matplotlib.patches.Circle at 0x65afdd0>,\n",
        " <matplotlib.patches.Circle at 0x65c5210>,\n",
        " <matplotlib.patches.Circle at 0x65c5610>,\n",
        " <matplotlib.patches.Circle at 0x65c5a10>,\n",
        " <matplotlib.patches.Circle at 0x65c5e10>,\n",
        " <matplotlib.patches.Circle at 0x65c3250>,\n",
        " <matplotlib.patches.Circle at 0x65c3650>,\n",
        " <matplotlib.patches.Circle at 0x65c3a50>,\n",
        " <matplotlib.patches.Circle at 0x65c3e50>,\n",
        " <matplotlib.patches.Circle at 0x65da290>,\n",
        " <matplotlib.patches.Circle at 0x65da690>,\n",
        " <matplotlib.patches.Circle at 0x65daa90>,\n",
        " <matplotlib.patches.Circle at 0x65dae90>,\n",
        " <matplotlib.patches.Circle at 0x65bf2d0>,\n",
        " <matplotlib.patches.Circle at 0x65bf6d0>,\n",
        " <matplotlib.patches.Circle at 0x65bfad0>,\n",
        " <matplotlib.patches.Circle at 0x65bfed0>,\n",
        " <matplotlib.patches.Circle at 0x65c4310>,\n",
        " <matplotlib.patches.Circle at 0x65c4710>,\n",
        " <matplotlib.patches.Circle at 0x65c4b10>,\n",
        " <matplotlib.patches.Circle at 0x65c4f10>,\n",
        " <matplotlib.patches.Circle at 0x65b8350>,\n",
        " <matplotlib.patches.Circle at 0x65b8750>,\n",
        " <matplotlib.patches.Circle at 0x65b8b50>,\n",
        " <matplotlib.patches.Circle at 0x65b8f50>,\n",
        " <matplotlib.patches.Circle at 0x65dc390>,\n",
        " <matplotlib.patches.Circle at 0x65dc790>,\n",
        " <matplotlib.patches.Circle at 0x65dcb90>,\n",
        " <matplotlib.patches.Circle at 0x65dcf90>,\n",
        " <matplotlib.patches.Circle at 0x4a6d3d0>,\n",
        " <matplotlib.patches.Circle at 0x4a6d7d0>,\n",
        " <matplotlib.patches.Circle at 0x4a6dbd0>,\n",
        " <matplotlib.patches.Circle at 0x4a6dfd0>,\n",
        " <matplotlib.patches.Circle at 0x4a61410>,\n",
        " <matplotlib.patches.Circle at 0x4a61810>,\n",
        " <matplotlib.patches.Circle at 0x4a61c10>,\n",
        " <matplotlib.patches.Circle at 0x4a73050>]"
       ]
      }
     ],
     "prompt_number": 71
    },
    {
     "cell_type": "code",
     "collapsed": false,
     "input": [
      "voxelSize = 50.0    # micrometers\n",
      "time_step = 0.04    # milliseconds\n",
      "ADC = 2.0           # micrometers^2/millisecond)\n",
      "barrierSpacing = 10.0 # micrometers (set this to 0 for no barriers)\n",
      "numParticles = 300\n",
      "nTimeSteps = 50\n",
      "\n",
      "# Place some particles randomly distributed in the volume\n",
      "xy = random.rand(2,numParticles) * voxelSize - voxelSize/2.\n",
      "start_xy = xy\n",
      "particleColor = [((xy[0,p] - axLims[0]) / axScale, (xy[1,p] - axLims[0]) / axScale, .5) for p in range(numParticles)]\n",
      "compartments = unique(floor(xy[1,:] / barrierSpacing))\n",
      "\n",
      "def draw_particles(xy, particleColor, axLims, voxelSize):\n",
      "    f, ax = subplots(1, 1, figsize=(6, 6))\n",
      "    axLims = [-voxelSize/2, voxelSize/2]\n",
      "    ax.set_xlabel('X position $(\\mu m)$')\n",
      "    ax.set_ylabel('Y position $(\\mu m)$')\n",
      "    ax.set_xlim(axLims[0],axLims[1]) \n",
      "    ax.set_ylim(axLims[0],axLims[1]) \n",
      "    #ax.axis('equal')\n",
      "\n",
      "\n",
      "if barrierSpacing > 0:    \n",
      "    for c in range(compartments.size):\n",
      "        ax.hlines(compartments[c]*barrierSpacing, axLims[0], axLims[1], linewidth=4, colors=[.7, .7, .8], linestyles='solid')\n",
      "\n",
      "particle = []\n",
      "for p in range(numParticles):\n",
      "    particle.append(Circle(xy[:,p], 0.3, color=particleColor[p]))\n",
      "    ax.add_artist(particle[p])\n",
      "    "
     ],
     "language": "python",
     "metadata": {},
     "outputs": [
      {
       "output_type": "display_data",
       "png": "[encoded data removed]",
       "text": [
        "<matplotlib.figure.Figure at 0x41a3e90>"
       ]
      }
     ],
     "prompt_number": 70
    },
    {
     "cell_type": "markdown",
     "metadata": {},
     "source": [
      "### Run the diffusion simulation\n",
      "\n",
      "In this loop, we update all the particle positions at each time step. The diffusion equation tells us that the final position of a particle moving in Brownian motion can be described by a Gaussian distribution with a standard deviation of sqrt(ADC*timeStep). So we update the current particle position by drawing numbers from a Gaussian with this standard deviation.\n"
     ]
    },
    {
     "cell_type": "code",
     "collapsed": false,
     "input": [
      "import time, sys\n",
      "from IPython.core.display import clear_output\n",
      "\n",
      "f, ax = subplots(1, 1, figsize=(6, 6))\n",
      "axLims = [-voxelSize/2, voxelSize/2]\n",
      "ax.set_xlabel('X position $(\\mu m)$')\n",
      "ax.set_ylabel('Y position $(\\mu m)$')\n",
      "ax.set_xlim(axLims[0],axLims[1]) \n",
      "ax.set_ylim(axLims[0],axLims[1]) \n",
      "#ax.axis('equal')\n",
      "\n",
      "#axis([-voxelSize/2,voxelSize/2,-voxelSize/2,voxelSize/2]\n",
      "#set(gca,'ALimMode','manual','XTick',[axLims(1):10:axLims(end)],'YTick',[axLims(1):10:axLims(end)])\n",
      "\n",
      "# Place some particles randomly distributed in the volume\n",
      "xy = random.rand(2,numParticles) * voxelSize - voxelSize/2.\n",
      "start_xy = xy\n",
      "\n",
      "particleColor = [((xy[0,p] - axLims[0]) / axScale, (xy[1,p] - axLims[0]) / axScale, .5) for p in range(numParticles)]\n",
      "\n",
      "compartments = unique(floor(xy[1,:] / barrierSpacing))\n",
      "if barrierSpacing > 0:    \n",
      "    for c in range(compartments.size):\n",
      "        ax.hlines(compartments[c]*barrierSpacing, axLims[0], axLims[1], linewidth=4, colors=[.7, .7, .8], linestyles='solid')\n",
      "\n",
      "particle = []\n",
      "for p in range(numParticles):\n",
      "    particle.append(Circle(xy[:,p], 0.3, color=particleColor[p]))\n",
      "    ax.add_artist(particle[p])\n",
      "\n",
      "total_time = 0\n",
      "for t_i in xrange(nTimeSteps):\n",
      "    dxy = randn(2,numParticles) * sqrt(2 * ADC * time_step)\n",
      "    new_xy = xy + dxy\n",
      "    if barrierSpacing>0:\n",
      "        curCompartment = floor(xy[1,:]/barrierSpacing)\n",
      "        newCompartment = floor(new_xy[1,:]/barrierSpacing)\n",
      "        for p in xrange(newCompartment.size):\n",
      "            if newCompartment[p]!=curCompartment[p]:\n",
      "                # approximate particles reflecting off the impermeable barrier\n",
      "                new_xy[1,p] = xy[1,p]\n",
      "    xy = new_xy\n",
      "    \n",
      "    # Draw the particles in their new positions:\n",
      "    for p in xrange(numParticles):\n",
      "        particle[p].center = xy[:,p]\n",
      "    f.canvas.draw()\n",
      "    \n",
      "    # To avoid biasing our ADC estimates with edge effects, we allow\n",
      "    # particles to move outside of our simulated voxel.\n",
      "    ax.set_title('elapsed time: %5.2f ms' % (time_step * t_i))\n",
      "    # Pause is specified in seconds, so the following will play the movie\n",
      "    # about 1000 times slower than reality.\n",
      "    time.sleep(time_step)\n",
      "    clear_output()\n",
      "    display(f,ax)\n",
      "    ax.cla()\n",
      "    total_time += time_step"
     ],
     "language": "python",
     "metadata": {},
     "outputs": [
      {
       "output_type": "display_data",
       "png": "[encoded data removed]",
       "text": [
        "<matplotlib.figure.Figure at 0x679b590>"
       ]
      },
      {
       "output_type": "display_data",
       "text": [
        "<matplotlib.axes.AxesSubplot at 0x5836a90>"
       ]
      },
      {
       "output_type": "display_data",
       "png": "[encoded data removed]",
       "text": [
        "<matplotlib.figure.Figure at 0x679b590>"
       ]
      }
     ],
     "prompt_number": 75
    },
    {
     "cell_type": "code",
     "collapsed": false,
     "input": [
      "import time, sys\n",
      "from IPython.core.display import clear_output\n",
      "\n",
      "f, ax = subplots(1, 1, figsize=(5, 5))\n",
      "\n",
      "\n",
      "total_time = 0\n",
      "for t_i in xrange(nTimeSteps):\n",
      "    dx = randn(numParticles,1) * sqrt(2 * ADC * time_step)\n",
      "    dy = randn(numParticles,1) * sqrt(2 * ADC * time_step)\n",
      "    new_pos_x = cur_pos_x + dx\n",
      "    new_pos_y = cur_pos_y + dy\n",
      "    if barrierSpacing>0:\n",
      "        curCompartment = floor(cur_pos_y/barrierSpacing)\n",
      "        newCompartment = floor(new_pos_y/barrierSpacing)\n",
      "        for p in xrange(newCompartment.size):\n",
      "            if newCompartment[p]!=curCompartment[p]:\n",
      "                # approximate particles reflecting off the impermeable barrier\n",
      "                new_pos_y[p] = cur_pos_y[p]\n",
      "    cur_pos_x = new_pos_x\n",
      "    cur_pos_y = new_pos_y\n",
      "    \n",
      "    # Draw the particles in their new positions:\n",
      "    ph=[]\n",
      "    for p in xrange(numParticles):\n",
      "        dot = ax.plot(cur_pos_x[p][0], cur_pos_y[p][0], marker='o')\n",
      "        ph.extend(dot)\n",
      "        #set_position(ph[p],cur_pos_x, cur_pos_y)\n",
      "    if barrierSpacing > 0:\n",
      "        curCompartment = floor(cur_pos_y / barrierSpacing)\n",
      "        compartments = unique(curCompartment)\n",
      "        for ii in range(compartments.size):\n",
      "            ax.hlines(compartments[ii]*barrierSpacing,axLims[0],axLims[1], linewidth=4, colors=[.7, .7, .8], linestyles='solid')\n",
      "    \n",
      "        for p in range(numParticles):\n",
      "            rgba = cmap_vals[np.where(curCompartment[p]==compartments),:][0][0]\n",
      "            setp(ph[p],'color', rgba)\n",
      "\n",
      "\n",
      "    # To avoid biasing our ADC estimates with edge effects, we allow\n",
      "    # particles to move outside of our simulated voxel.\n",
      "    ax.set_title('elapsed time: %5.2f ms' % (time_step * t_i))\n",
      "    # Pause is specified in seconds, so the following will play the movie\n",
      "    # about 1000 times slower than reality.\n",
      "    time.sleep(time_step)\n",
      "    clear_output()\n",
      "    display(f,ax)\n",
      "    ax.cla()\n",
      "    total_time += time_step"
     ],
     "language": "python",
     "metadata": {},
     "outputs": [
      {
       "output_type": "display_data",
       "png": "[encoded data removed]",
       "text": [
        "<matplotlib.figure.Figure at 0x4d52190>"
       ]
      },
      {
       "output_type": "display_data",
       "text": [
        "<matplotlib.axes.AxesSubplot at 0x3437f10>"
       ]
      },
      {
       "output_type": "display_data",
       "png": "[encoded data removed]",
       "text": [
        "<matplotlib.figure.Figure at 0x4d52190>"
       ]
      }
     ],
     "prompt_number": 26
    },
    {
     "cell_type": "markdown",
     "metadata": {},
     "source": [
      "### Question 2\n",
      "\n",
      "a. What is the average position change of each particle in each axis?\n",
      "\n",
      "b. What is the average distance that each particle moved? (Hint: compute the Euclidean distance that each moved.)"
     ]
    },
    {
     "cell_type": "code",
     "collapsed": false,
     "input": [
      "# compute your answer here\n"
     ],
     "language": "python",
     "metadata": {},
     "outputs": [
      {
       "output_type": "pyout",
       "prompt_number": 82,
       "text": [
        "array([[ 0.98115585,  0.19321803],\n",
        "       [-0.19321803,  0.98115585]])"
       ]
      }
     ],
     "prompt_number": 82
    },
    {
     "cell_type": "markdown",
     "metadata": {},
     "source": [
      "By comparing the particle ending positions (in xy) with their starting positions (in start_xy), we can compute the diffusion tensor. This is essentially just a 2-d Gaussian fit to the position differences, computed using the covariance function (cov). We also need to normalize the positions by the total time that we diffused.\n",
      "\n",
      "The eigensystem of the diffusion tensor (computed using 'eig') describes an isoprobability ellipse through the data points. "
     ]
    },
    {
     "cell_type": "code",
     "collapsed": false,
     "input": [
      "#print cur_pos\n",
      "Dt = cov(start_xy - xy) / (2 * total_time)\n",
      "[val,vec] = eig(Dt)\n",
      "estimatedADC = val\n",
      "principalDiffusionDirection = vec[0]\n",
      "\n",
      "print estimatedADC, principalDiffusionDirection"
     ],
     "language": "python",
     "metadata": {},
     "outputs": [
      {
       "output_type": "stream",
       "stream": "stdout",
       "text": [
        "[ 1.92445154  1.4049255 ] [ 0.98115585  0.19321803]\n"
       ]
      }
     ],
     "prompt_number": 84
    },
    {
     "cell_type": "markdown",
     "metadata": {},
     "source": [
      "### Question 3\n",
      "\n",
      "a. Run the simulation with and without barriers by adjusting the 'barrierSpacing' variable. How does the diffusion tensor change?\n",
      "\n",
      "b. Adjust the barrier spacing. What effect does this have on the princpal diffusion direction? On the estimatedADC values?\n",
      "\n",
      "c. With barriers in place, reduce the number of time steps (nTimeSteps). How does this affect the estimated ADC values? Explore the interaction between the barrier spacing and the number of time steps."
     ]
    },
    {
     "cell_type": "code",
     "collapsed": false,
     "input": [
      "# compute your answer here\n",
      "\n"
     ],
     "language": "python",
     "metadata": {},
     "outputs": []
    },
    {
     "cell_type": "markdown",
     "metadata": {},
     "source": [
      "# The effect of diffusion on the MR signal\n",
      "We'll simulate an image that represents a vial of water in a 3 Tesla magnetic field. The image intensity at each point will represent the local magnetic field strength, expressed as the Larmor frequency difference between that region and the frequency at 3 T.\n",
      "\n",
      "First let's define some parameters, such as the simulated filed strength (B0) and the gyromagnetic ratio for Hydrogen:"
     ]
    },
    {
     "cell_type": "code",
     "collapsed": false,
     "input": [
      "B0 = 3.0                     # Magnetic field strength (Tesla)\n",
      "gyromagneticRatio = 42.58e+6 # Gyromagnetic constant for hydrogen (Hz / Tesla)\n",
      "\n",
      "# The Larmour frequency (in Hz) of Hydrogen spins in this magnet is:\n",
      "spinFreq = gyromagneticRatio * B0"
     ],
     "language": "python",
     "metadata": {},
     "outputs": []
    },
    {
     "cell_type": "markdown",
     "metadata": {},
     "source": [
      "### Question 4\n",
      "\n",
      "a. What is the Larmour frequency of Hydrogen spins at 1.5T? \n",
      "\n",
      "b. What is it at 7T?"
     ]
    },
    {
     "cell_type": "code",
     "collapsed": false,
     "input": [
      "# compute your answer here\n"
     ],
     "language": "python",
     "metadata": {},
     "outputs": []
    },
    {
     "cell_type": "markdown",
     "metadata": {},
     "source": [
      "### Simulate spins in an MR experiment\n",
      "\n",
      "We start by defining the size of our simulated voxel, in micrometers. For the diffusion gradients, we'll start with the Y gradient turned off and the X gradient set to 5e-8 Tesla per micrometer (that's 50 mT/m, a typical gradient strengh for clinical MR scanners). We'll also quantize space into 100 regions and use meshgrid to lay these out into 2d arrays that be used to compute a 100x100 image. Finally, we compute the relative field strength at each spatial location across our simulated voxel. Gradient strengths are symmetric about the  center. To understand the following expression, work through the units: (micrometers * T/um + micrometers * T/um) leaves us with T. We scale this by 1e6 to express the resulting image in micro-Teslas"
     ]
    },
    {
     "cell_type": "code",
     "collapsed": false,
     "input": [
      "voxelSize = 40.0 # micrometers\n",
      "gx = 5e-8 # Tesla / micrometer\n",
      "gy = 0.0  # Tesla / micrometer\n",
      "\n",
      "x = linspace(-voxelSize/2, voxelSize/2, 100)\n",
      "y = linspace(-voxelSize/2, voxelSize/2, 100)\n",
      "[X,Y] = meshgrid(x,y)\n",
      "\n",
      "relativeFieldStrengthImg = (X*gx + Y*gy) * 1e6\n",
      "#print relativeFieldStrengthImg\n",
      "\n",
      "f, ax = subplots(1, 1)\n",
      "images=[]\n",
      "images.append(ax.matshow(relativeFieldStrengthImg, cmap=matplotlib.cm.bone))\n",
      "ax.set_axes('tight')\n",
      "ax.set_ylabel('Y position (micrometers)')\n",
      "\n",
      "\n",
      "# add a colorbar\n",
      "ax = plt.gca()\n",
      "divider = make_axes_locatable(ax)\n",
      "cax = divider.append_axes(\"bottom\", size=\"5%\", pad=0.05)\n",
      "f.colorbar(images[0], cax=cax, orientation='horizontal')\n",
      "plt.xlabel('X position (micrometers)')\n",
      "\n",
      "# Place some example spin packets in there:\n",
      "sx = linspace(-voxelSize/2+voxelSize/10, voxelSize/2-voxelSize/10, 5);\n",
      "sy = linspace(-voxelSize/2+voxelSize/10, voxelSize/2-voxelSize/10, 5);\n",
      "[spinXLocs,spinYLocs] = meshgrid(sx,sy);\n",
      "\n",
      "spinPoint = zeros(1,spinXLocs.shape[0]*spinXLocs.shape[1]);\n",
      "spinCenter = zeros(1,spinXLocs.shape[0]*spinXLocs.shape[1]);\n",
      "for i in range(spinXLocs.shape[0]):\n",
      "    for j in range(spinXLocs.shape[1]):\n",
      "        spinPoint[i,j] = plot(spinXLocs[ii], spinYLocs[ii], 'r.','markerSize',12);\n",
      "        spinCenter[ii] = plot(spinXLocs[ii], spinYLocs[ii], 'k.','markerSize',12);\n"
     ],
     "language": "python",
     "metadata": {},
     "outputs": []
    },
    {
     "cell_type": "markdown",
     "metadata": {},
     "source": [
      "Calculate the relative spin frequency at each spin location. Our gradient strengths are expressed as T/cm and are symmetric about the center of the voxelSize. To understand the following expression, work through the units: (centimeters * T/cm + centimeters * T/cm) * Hz/Tesla + Tesla*Hz/Tesla leaves us with MHz\n"
     ]
    },
    {
     "cell_type": "code",
     "collapsed": false,
     "input": [
      "spinFreq = (spinXLocs.flatten() * gx + spinYLocs.flatten() * gy) * gyromagneticRatio + B0 * gyromagneticRatio\n",
      "print spinFreq"
     ],
     "language": "python",
     "metadata": {},
     "outputs": []
    },
    {
     "cell_type": "markdown",
     "metadata": {},
     "source": [
      "Note that including the B0 field in this equation simply adds an offset to the spin frequency. For most purposes, we usually only care about the spin frequency relative to the B0 frequency (i.e., the rotating frame of reference), so we can leave that last term off and compute relative frequencies:"
     ]
    },
    {
     "cell_type": "code",
     "collapsed": false,
     "input": [
      "relativeSpinFreq = (spinXLocs.flatten() * gx + spinYLocs.flatten() * gy) * gyromagneticRatio\n",
      "print "
     ],
     "language": "python",
     "metadata": {},
     "outputs": []
    },
    {
     "cell_type": "markdown",
     "metadata": {},
     "source": [
      "### Question 5\n",
      "\n",
      "a. Speculate on why the relative spin frequency is the most important value to calculate here.\n",
      "\n",
      "b. Do you think the B0 field strength will play a role in the calculation of the diffusion tensor?"
     ]
    },
    {
     "cell_type": "code",
     "collapsed": false,
     "input": [
      "# compute your answer here\n",
      "\n"
     ],
     "language": "python",
     "metadata": {},
     "outputs": []
    },
    {
     "cell_type": "markdown",
     "metadata": {},
     "source": [
      "#### Display the relative frequencies (in Hz)\n",
      "\n",
      "When we first apply an RF pulse, all the spins will all precess in phase. If they are all experienceing the same magnetic field, they will remain in phase. However, if some spins experience a different local field, they will become out of phase with the others. Let's show this with a movie, where the phase will be represented with color. Our timestep is 1 millisecond."
     ]
    },
    {
     "cell_type": "code",
     "collapsed": false,
     "input": [
      "for ii in range(spinXLocs.size):\n",
      "    text(spinXLocs[ii], spinYLocs[ii], sprintf('%0.fHz', relativeSpinFreq[ii]), color='b', ha='center', va='top'))\n",
      "\n",
      "timeStep = .001\n",
      "\n",
      "# Initialize the transverse magnitization to reflect a 90 deg RF pulse:\n",
      "Mxy0 = 2\n",
      "curSpinPhase = zeros(spinCenter.size)\n",
      "T2 = 0.10\n",
      "t = 0\n",
      "nTimeSteps = 100\n",
      "for ti in range(nTimeSteps):\n",
      "    S = 0\n",
      "    for s in range(spinCenter.size):\n",
      "        # Get the position of this spin packet\n",
      "        sx = get(spinCenter[s], 'XData')\n",
      "        sy = get(spinCenter[s], 'YData')\n",
      "        # Update the current phase\n",
      "        curSpinPhase[s] = curSpinPhase[s] + 2*pi*gyromagneticRatio * (sx*gx+sy*gy) * timeStep\n",
      "        # Do a 180 flip at the TE/2:\n",
      "        if ti==round(nTimeSteps/2.):\n",
      "            curSpinPhase[s] = -curSpinPhase[s]\n",
      "        # The transverse magnitization magnitude decays with the T2:\n",
      "        #Mxy = Mxy0 + exp(-t/T2) * exp(1i*curSpinPhase(s)); \n",
      "        #curMag = abs(Mxy);\n",
      "        #curPhase = angle(Mxy);\n",
      "        curMagnitude = Mxy0*exp(-t/T2)\n",
      "        curPhase = curSpinPhase[s]\n",
      "        px = sin(curPhase)*curMagnitude\n",
      "        py = cos(curPhase)*curMagnitude\n",
      "        set(spinPoint[s], 'XData', sx+px, 'YData', sy+py)\n",
      "        # Summarize the total MR signal for this iteration\n",
      "        S = S + px^2 + py^2\n",
      "    S = sqrt(S)/spinCenter.size\n",
      "    t = t+timeStep\n",
      "    set(get(ah,'Title'), string=sprintf('elapsed time: %5.1f ms',timeStep*t*1000))\n",
      "    pause(.1);"
     ],
     "language": "python",
     "metadata": {},
     "outputs": []
    },
    {
     "cell_type": "code",
     "collapsed": false,
     "input": [],
     "language": "python",
     "metadata": {},
     "outputs": []
    }
   ],
   "metadata": {}
  }
 ]
}
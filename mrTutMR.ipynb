{
 "cells": [
  {
   "cell_type": "markdown",
   "metadata": {},
   "source": [
    "# Basic MR"
   ]
  },
  {
   "cell_type": "markdown",
   "metadata": {},
   "source": [
    "**Class:**     Psych 204a\n",
    "\n",
    "**Tutorial:**  Basic MR\n",
    "\n",
    "**Duration:**  90 minutes\n",
    "\n",
    "**Authors:**    Originally written in Matlab by Brian Wandell in 2004\n",
    "\n",
    "Checked and updated: \n",
    "\n",
    "- 2007 Rory Sayres\n",
    "- 2009.22.09, 2010.18.09 Jon Winawer\n",
    "- 2012.09 Michael Waskom (translated to Python)\n",
    "- 2013.09 Grace Tang, Bob Dougherty\n",
    "\n",
    "**Copyright:** Stanford University"
   ]
  },
  {
   "cell_type": "markdown",
   "metadata": {},
   "source": [
    "This tutorial explains basic principles of magnetic resonance signals.\n",
    "As the first tutorial in the series, it also gives you an opportunity to\n",
    "examine basic Python commands. (For a short tutorial on the Jupyter/IPython notebook interface, have a look at this video: https://www.youtube.com/watch?v=lmoNmY-cmSI.)\n",
    "\n",
    "In this tutorial, principles are illustrated for signals derived from a bulk\n",
    "substance, such as a beaker of water. Various terms used to describe the\n",
    "MR principles, including spins, parallel and anti-parallel, Boltzman distribution\n",
    "are introduced.\n",
    "\n",
    "Also, tissue properties such as T1 (longitudinal) and T2 (spin-spin)\n",
    "interactions, are explained and the way in which signal contrast depends\n",
    "on these parameters is explained. \n",
    "\n",
    "The next tutorial, MRImaging, takes up the topic of how to make\n",
    "images that measure these tissue properties in a non-uniform volume, such\n",
    "as a head.\n",
    "\n",
    "\n",
    "**References to help with this tutorial:**\n",
    "\n",
    "- Huettel et al. Chapters 1-3 (mainly Chapter 3)\n",
    "- John Hornak [online MRI book](http://www.cis.rit.edu/htbooks/mri/index.html) (especially [Chapter 3](http://www.cis.rit.edu/htbooks/mri/inside.htm))\n",
    "- McRobbie et al, MRI, From Picture to Proton, Chapter 8\n",
    "\n",
    "1st v. 2nd edition of text: \n",
    "The course text is Huettel et al, 2nd edition. The first and second\n",
    "editions are quite similar, especially in the earlier chapters.\n",
    "References followed by \"ii\" are 2nd edition, \"i\" first edition. Hence p.\n",
    "51i, 60ii means p 51 in the first edition, p 60 in the second. And so on.\n"
   ]
  },
  {
   "cell_type": "markdown",
   "metadata": {},
   "source": [
    "## Getting Started"
   ]
  },
  {
   "cell_type": "markdown",
   "metadata": {},
   "source": [
    "OK, let's get started with the tutorial! Each cell that has a gray box with 'In [ ]:' in front of it contains code. To run the code, click on the cell (it will be highlighted with a green outline when you do) and then hit the Enter key while holding shift. Some later cells depend on values set in earlier cells, so be sure to execute them in order. In the first cell of code just below this paragraph, we set some general parameters for python."
   ]
  },
  {
   "cell_type": "code",
   "execution_count": null,
   "metadata": {
    "collapsed": false
   },
   "outputs": [],
   "source": [
    "%pylab inline\n",
    "import matplotlib as mpl\n",
    "mpl.rcParams[\"figure.figsize\"] = (8, 6)\n",
    "mpl.rcParams[\"axes.grid\"] = True\n",
    "from IPython.display import display"
   ]
  },
  {
   "cell_type": "markdown",
   "metadata": {},
   "source": [
    "## Spin Velocity"
   ]
  },
  {
   "cell_type": "markdown",
   "metadata": {},
   "source": [
    "When an atomic species with net spin is placed in a steady magnetic field, it precesses at a frequency that is characteristic of that species and that  varies with the strength of the magnetic field. We can compute the precession frequency from a following simple formula.  Note the units. (see chapter 3 and ca. p. 51i, 60ii for a discussion of precession)."
   ]
  },
  {
   "cell_type": "code",
   "execution_count": null,
   "metadata": {
    "collapsed": false
   },
   "outputs": [],
   "source": [
    "B0 = 1.5      # Magnetic field strength (Tesla)\n",
    "g = 42.58e6   # Gyromagnetic constant for hyrdogen (Hz / Tesla)\n",
    "v = g * B0    # The resonant frequence of hydrogen, also called its Larmor frequency"
   ]
  },
  {
   "cell_type": "markdown",
   "metadata": {},
   "source": [
    "#### Question 1"
   ]
  },
  {
   "cell_type": "markdown",
   "metadata": {},
   "source": [
    "What are the units of the Larmor frequency, $v$, for hydrogen as expressed above?"
   ]
  },
  {
   "cell_type": "code",
   "execution_count": null,
   "metadata": {
    "collapsed": false
   },
   "outputs": [],
   "source": [
    "# Python string interpolation is accomplished through the % operator\n",
    "print \"The resonant frequency of spins in hydrogen is %0.4f (MHz) at %.2f Tesla\" % (v / (10 ** 6), B0)"
   ]
  },
  {
   "cell_type": "markdown",
   "metadata": {},
   "source": [
    "The gyromagnetic constant of sodium is $11.27 \\times 10^6 Hz/Tesla$. Compute the Larmor frequency of sodium in a 3T magnet.\n",
    "\n",
    "Ordinarily, the resonant frequencies are expressed in units of MegaHertz (millions of hertz)"
   ]
  },
  {
   "cell_type": "code",
   "execution_count": null,
   "metadata": {
    "collapsed": false
   },
   "outputs": [],
   "source": [
    "# Compute your answer here\n"
   ]
  },
  {
   "cell_type": "markdown",
   "metadata": {},
   "source": [
    "## Spin Energy"
   ]
  },
  {
   "cell_type": "markdown",
   "metadata": {},
   "source": [
    "The energy in precessing spin is proportional to its resonant frequency, $v$.\n",
    "The constant of proportionality between energy and frequency is a famous\n",
    "constant called Planck's constant.\n",
    "(Extra credit:  Find out something interesting about Max Planck).  \n",
    "\n",
    "Hence, the amount of energy in a hydrogen molecular in this magnetic\n",
    "field is"
   ]
  },
  {
   "cell_type": "code",
   "execution_count": null,
   "metadata": {
    "collapsed": false
   },
   "outputs": [],
   "source": [
    "h = 6.626e-34  # Planck's constant (Joules-seconds)\n",
    "E = h * v\n",
    "print \"E = %.4g\" % E"
   ]
  },
  {
   "cell_type": "markdown",
   "metadata": {},
   "source": [
    "#### Question 2"
   ]
  },
  {
   "cell_type": "markdown",
   "metadata": {},
   "source": [
    "What are the units of E?\n",
    "\n",
    "At steady state, say when the subject enters the magnet and prior to\n",
    "any measurements, the dipoles align parallel or anti-parallel to the\n",
    "magnetic field. \n",
    "(The textbook illustrates this with a nice metaphor of gravity in Figure\n",
    "3.7ii, 3,6i.) \n",
    "\n",
    "The energy difference between these two states is proportional to the\n",
    "mean magnetic field.  This is called the Zeeman effect (see Figure 3.8i,\n",
    "3.9ii in the book). "
   ]
  },
  {
   "cell_type": "markdown",
   "metadata": {},
   "source": [
    "The proportion of dipoles aligned parallel (low energy) and anti-parallel\n",
    "(high energy) to the main field is described by the Boltzmann\n",
    "distribution.\n",
    "The formula that determines the fraction of dipoles in the low and\n",
    "high energy states is in Hornak (Chapter 2)."
   ]
  },
  {
   "cell_type": "code",
   "execution_count": null,
   "metadata": {
    "collapsed": false
   },
   "outputs": [],
   "source": [
    "k = 1.3805e-23      # Boltzmann's constant, J/Kelvin\n",
    "T = 300             # Degrees Kelvin at room temperature\n",
    "dE = h * g * B0     # Transition energy\n",
    "ratio_high_to_low = exp(-dE / (k * T))  # Boltzmann's formula, Hornak, Chapter 3; Huettel, p. 76ii\n",
    "print \"High-low ratio: %.6f\" % ratio_high_to_low"
   ]
  },
  {
   "cell_type": "markdown",
   "metadata": {},
   "source": [
    "At low temperatures (near absolute zero), very few of the dipoles enter\n",
    "the high (anti-parallel) energy state.\n",
    "\n",
    "No, this is not important for us.\n",
    "But I find the numbers interesting and can see why people might want to\n",
    "work on low temperature physics for a while."
   ]
  },
  {
   "cell_type": "code",
   "execution_count": null,
   "metadata": {
    "collapsed": false
   },
   "outputs": [],
   "source": [
    "T = logspace(-3, 2.5, 50)\n",
    "r = exp(-dE / (k*T))\n",
    "plot(T, r)\n",
    "semilogx()\n",
    "xlabel('Temperature (K)')\n",
    "ylabel('Ratio of high/low energy state dipoles')\n",
    "ylim([0, 1.1]);"
   ]
  },
  {
   "cell_type": "markdown",
   "metadata": {},
   "source": [
    "#### Question 3"
   ]
  },
  {
   "cell_type": "markdown",
   "metadata": {},
   "source": [
    "Where is human body temperature on the graph?  Given human\n",
    "body temperature, what is the ratio of high/low energy?\n",
    "\n",
    "Would it matter if we kept the room cooler?"
   ]
  },
  {
   "cell_type": "markdown",
   "metadata": {},
   "source": [
    "## T1 Tissue Contrast"
   ]
  },
  {
   "cell_type": "markdown",
   "metadata": {},
   "source": [
    "The tendency of dipoles to align (either parallel or anti-parallel) with\n",
    "the B0 magnetic field imposes an opportunity to probe tissue properties\n",
    "using magnetic resonance. MR signals are derived by perturbing the\n",
    "ordered spins (excitation) and then measuring the emissions (reception)\n",
    "as the dipoles return to their low energy state.  The way the dipoles\n",
    "return to their low energy state provides information about the local\n",
    "tissue.\n",
    "\n",
    "Summing the effect of the many many dipoles within a voxel, we\n",
    "obtain a measure of the dipoles within the voxel called the net\n",
    "magnetization.  This is represented by a single vector (see the many\n",
    "examples in Hornak). Most reasoning about the MR signal is based\n",
    "on understanding models of the net magnetization vector and how it\n",
    "recovers after being perturbed by the radio frequency pulses in the\n",
    "presence of changing magnetic fields. \n",
    "\n",
    "\n",
    "The MR measurements that we obtain describe the net magnetization in the\n",
    "direction perpendicular to the main axis (B0 field). This direction is\n",
    "illustrated in the following figures.\n",
    "\n",
    "First, here is a 3D plot that shows the net magnetization as a red circle\n",
    "in the steady-state.  The black lines show the three axes."
   ]
  },
  {
   "cell_type": "code",
   "execution_count": null,
   "metadata": {
    "collapsed": false
   },
   "outputs": [],
   "source": [
    "# This function just saves us some typing below\n",
    "# It's not relevant to the conceptual material\n",
    "# But it does show a nice trick on the last line\n",
    "def axisplot(ax):\n",
    "    \"\"\"Convenience function to plot axis lines in a 3D plot\"\"\"\n",
    "    ax.plot([-1, 1], [0, 0], [0, 0], \"k:\")\n",
    "    ax.plot([0, 0], [-1, 1], [0, 0], \"k:\")\n",
    "    ax.plot([0, 0], [0, 0], [-1, 1], \"k:\")\n",
    "    for axis in [\"x\", \"y\", \"z\"]:\n",
    "        getattr(ax, \"set_%slabel\" % axis)(axis)"
   ]
  },
  {
   "cell_type": "code",
   "execution_count": null,
   "metadata": {
    "collapsed": false
   },
   "outputs": [],
   "source": [
    "from mpl_toolkits.mplot3d import Axes3D\n",
    "f = figure()\n",
    "ax = f.add_subplot(111, projection='3d', aspect=\"equal\")\n",
    "ax.plot([0], [0], [1], \"ro\")\n",
    "axisplot(ax)\n",
    "az0 = 332.5\n",
    "el0 = 30\n",
    "ax.view_init(el0, az0)"
   ]
  },
  {
   "cell_type": "markdown",
   "metadata": {},
   "source": [
    "The size of the MR signal we measure depends on how far the \n",
    "magnetization deviates from the main z-axis.  We can see this \n",
    "more easily by looking at the figure straight from the top.  In \n",
    "initial situation, the point is at $(0, 0)$ in the $(x, y)$ plane."
   ]
  },
  {
   "cell_type": "code",
   "execution_count": null,
   "metadata": {
    "collapsed": false
   },
   "outputs": [],
   "source": [
    "az1 = 0\n",
    "el1 = 90\n",
    "ax.view_init(el1, az1)\n",
    "display(f)"
   ]
  },
  {
   "cell_type": "markdown",
   "metadata": {},
   "source": [
    "Notice that from this view, looking down the z-axis, we see only the x-\n",
    "and y-axes.  The net magnetization is at $(0,0)$ so we will not see any\n",
    "signal."
   ]
  },
  {
   "cell_type": "markdown",
   "metadata": {},
   "source": [
    "Suppose we excite the tissue and place the net magnetization along the x-axis."
   ]
  },
  {
   "cell_type": "code",
   "execution_count": null,
   "metadata": {
    "collapsed": false
   },
   "outputs": [],
   "source": [
    "f = figure()\n",
    "ax = f.add_subplot(111, projection='3d', aspect=\"equal\")\n",
    "ax.plot([1], [0], [0], \"go\")\n",
    "axisplot(ax)\n",
    "ax.view_init(el0, az0)"
   ]
  },
  {
   "cell_type": "markdown",
   "metadata": {},
   "source": [
    "When we look from the top now, we see that there is a large magnetization\n",
    "component.  The green point is removed from $(0,0)$ and falls along the\n",
    "x-axis."
   ]
  },
  {
   "cell_type": "code",
   "execution_count": null,
   "metadata": {
    "collapsed": false
   },
   "outputs": [],
   "source": [
    "ax.view_init(el1, az1)\n",
    "display(f)"
   ]
  },
  {
   "cell_type": "markdown",
   "metadata": {},
   "source": [
    "When we change the net magnetization from the steady-state position (red\n",
    "circle) to the excited position (green circle), it is like introducing a 90\n",
    "deg rotation in the magnetization direction.  This is usually called the\n",
    "flip angle. This is one of the parameters that you select when doing MR\n",
    "imaging."
   ]
  },
  {
   "cell_type": "code",
   "execution_count": null,
   "metadata": {
    "collapsed": false
   },
   "outputs": [],
   "source": [
    "ax = subplot(111, projection='3d', aspect=\"equal\")\n",
    "ax.plot([0], [0], [1], \"ro\")\n",
    "ax.plot([1], [0], [0], \"go\")\n",
    "axisplot(ax)\n",
    "ax.view_init(el0, az0)"
   ]
  },
  {
   "cell_type": "markdown",
   "metadata": {},
   "source": [
    "As the net magnetization returns to the steady-state position, the\n",
    "distance from the origin decreases, reducing the signal.  This is\n",
    "illustrated by the collection of points plotted here that\n",
    "show the net magnetization rotating back towards the z-axis."
   ]
  },
  {
   "cell_type": "code",
   "execution_count": null,
   "metadata": {
    "collapsed": false
   },
   "outputs": [],
   "source": [
    "theta = ((pi / 2) * (linspace(0, 10, 11) / 10)).reshape(11, 1)\n",
    "x = cos(theta)\n",
    "y = zeros_like(x)\n",
    "z = sin(theta)\n",
    "f = figure()\n",
    "ax = f.add_subplot(111, projection='3d', aspect=\"equal\")\n",
    "clut = linspace(1, 0, 11)\n",
    "for i, (x_i, y_i, z_i) in enumerate(zip(x, y, z)):\n",
    "    ax.plot(x_i, y_i, z_i, \"o\", color=cm.RdYlGn(clut[i]))\n",
    "axisplot(ax)\n",
    "ax.view_init(el0, az0)"
   ]
  },
  {
   "cell_type": "markdown",
   "metadata": {},
   "source": [
    "When viewed from the top, you can see that the green points head back\n",
    "towards the origin."
   ]
  },
  {
   "cell_type": "code",
   "execution_count": null,
   "metadata": {
    "collapsed": false
   },
   "outputs": [],
   "source": [
    "ax.view_init(el1, az1)\n",
    "display(f)"
   ]
  },
  {
   "cell_type": "markdown",
   "metadata": {},
   "source": [
    "After receiving an excitation pulse, this component of the MR signal\n",
    "decays gradually over time.  The spin-lattice decay has been measured\n",
    "and, in general, it follows an exponential decay rate.\n",
    "\n",
    "Specifically, here is the rate of recovery of the T1 magnetization for hydrogen\n",
    "molecules in gray matter."
   ]
  },
  {
   "cell_type": "code",
   "execution_count": null,
   "metadata": {
    "collapsed": false
   },
   "outputs": [],
   "source": [
    "T1_gray = 0.88                # Time constant units of S\n",
    "t_T1 = arange(0.02, 6, 0.02)  # Time in seconds\n",
    "Mo = 1                        # Set the net magnetization in the steady state to 1 and ignore."
   ]
  },
  {
   "cell_type": "markdown",
   "metadata": {},
   "source": [
    "This is the exponential rate of recovery of the T1 magnetization, after\n",
    "it has been set to zero by flipping the net magnetization 90 degrees."
   ]
  },
  {
   "cell_type": "code",
   "execution_count": null,
   "metadata": {
    "collapsed": false
   },
   "outputs": [],
   "source": [
    "MzG_T1 = Mo * (1 - exp(-t_T1 / T1_gray))"
   ]
  },
  {
   "cell_type": "markdown",
   "metadata": {},
   "source": [
    "Plotted is a graph we have the magnetization of gray matter as"
   ]
  },
  {
   "cell_type": "code",
   "execution_count": null,
   "metadata": {
    "collapsed": false
   },
   "outputs": [],
   "source": [
    "plot(t_T1, MzG_T1)\n",
    "xlabel('Time (s)')\n",
    "ylabel('Longitudinal magnetization (T1)');"
   ]
  },
  {
   "cell_type": "markdown",
   "metadata": {},
   "source": [
    "The decay rates for various brain tissues (summarized by the parameter T1\n",
    "above) differs both with the material and with the level of the B0 field.\n",
    "The value T1 = 0.88 seconds above is typical of gray matter at 1.5T.\n",
    "\n",
    "The T1 value for white matter is slightly smaller.  Comparing the two we\n",
    "see that white matter recovers slightly faster (has a smaller T1):"
   ]
  },
  {
   "cell_type": "code",
   "execution_count": null,
   "metadata": {
    "collapsed": false
   },
   "outputs": [],
   "source": [
    "T1_white = 0.64;\n",
    "MzW_T1 = Mo * (1 - exp(-t_T1 / T1_white))\n",
    "plot(t_T1, MzG_T1, 'black', label=\"Gray\")\n",
    "plot(t_T1, MzW_T1, 'gray', linestyle=\"--\", label=\"White\")\n",
    "xlabel('Time (s)')\n",
    "ylabel('Longitudinal magnetization (T1)')\n",
    "legend(loc=\"best\");"
   ]
  },
  {
   "cell_type": "markdown",
   "metadata": {},
   "source": [
    "Notice that the time to recover all the way back to Mo is fairly long, on\n",
    "the order of 3-4 sec.  This is a limitation in the speed of acquisition\n",
    "for T1 imaging.\n",
    "\n",
    "The difference in the T1 component of the signal from gray matter and\n",
    "white matter changes over time. This difference is plotted in the next graph."
   ]
  },
  {
   "cell_type": "code",
   "execution_count": null,
   "metadata": {
    "collapsed": false
   },
   "outputs": [],
   "source": [
    "plot(t_T1, abs(MzW_T1 - MzG_T1))\n",
    "xlabel('Time (s)')\n",
    "ylabel('Magnetization difference');"
   ]
  },
  {
   "cell_type": "markdown",
   "metadata": {},
   "source": [
    "#### Question 4"
   ]
  },
  {
   "cell_type": "markdown",
   "metadata": {},
   "source": [
    "If you are seeking to make a measurement that optimizes the\n",
    "signal to noise ratio between these two materials, at what time would you\n",
    "measure the recovery of the T1 signal? "
   ]
  },
  {
   "cell_type": "markdown",
   "metadata": {},
   "source": [
    "#### Question 5"
   ]
  },
  {
   "cell_type": "markdown",
   "metadata": {},
   "source": [
    "Look up the T1 value of cerebro-spinal fluid (CSF).  Plot the T1 recovery\n",
    "of CSF.  At what time you would measure to maximize the white/CSF\n",
    "contrast."
   ]
  },
  {
   "cell_type": "markdown",
   "metadata": {},
   "source": [
    "We can visualize this difference as follows. Suppose that we have two\n",
    "beakers, adjacent to one another, containing materials with different T1\n",
    "values.  Suppose we make a pair of images in which the intensity of each\n",
    "image is set to the T1 value over time. What would the T1 images look\n",
    "like?\n",
    "\n",
    "The beakers start with the same, Mo, magnetization."
   ]
  },
  {
   "cell_type": "code",
   "execution_count": null,
   "metadata": {
    "collapsed": false
   },
   "outputs": [],
   "source": [
    "beaker1 = Mo * ones((32, 32))\n",
    "beaker2 = Mo * ones((32, 32))"
   ]
  },
  {
   "cell_type": "markdown",
   "metadata": {},
   "source": [
    "They will have different T1 relaxation values"
   ]
  },
  {
   "cell_type": "code",
   "execution_count": null,
   "metadata": {
    "collapsed": false
   },
   "outputs": [],
   "source": [
    "T1 = (0.64, 0.88)  # White, gray T1"
   ]
  },
  {
   "cell_type": "markdown",
   "metadata": {},
   "source": [
    "Here is a movie showing the relative intensities of the images over a 4 sec period, measured every 100 ms. You can play the movie by moving the slider to change the time point displayed."
   ]
  },
  {
   "cell_type": "code",
   "execution_count": null,
   "metadata": {
    "collapsed": false
   },
   "outputs": [],
   "source": [
    "from ipywidgets import interact,FloatSlider\n",
    "\n",
    "f = figure()    \n",
    "beakers = [beaker1, beaker2]\n",
    "def draw_beakers(time):\n",
    "    for i, beaker in enumerate(beakers):\n",
    "        subplot(1, 2, i + 1)\n",
    "        img = beaker * (1 - exp(-time / T1[i])) \n",
    "        imshow(img, vmin=0, vmax=1, cmap=\"gray\")\n",
    "        grid(False)\n",
    "        xticks([])\n",
    "        yticks([])\n",
    "        ylim([-5, 32])\n",
    "        title(\"Beaker %d\" % (i + 1))\n",
    "        text(8, -3, 'Time: %.2f sec' % time, fontdict=dict(size=12))\n",
    "\n",
    "interact(draw_beakers, time=FloatSlider(min=0, max=4.0, value=0));"
   ]
  },
  {
   "cell_type": "markdown",
   "metadata": {},
   "source": [
    "As you can see, if we make a picture of the net magnetization around\n",
    "0.6-1.0 sec during the decay, there will be a good contrast difference\n",
    "between the gray and white matter.  Measured earlier or later, the\n",
    "picture will have less contrast.\n",
    "\n",
    "As a preview of further work, later in the course, we should add just a\n",
    "little noise to the measurements.  After all, all measurements have some\n",
    "noise.  Let's look again.\n"
   ]
  },
  {
   "cell_type": "code",
   "execution_count": null,
   "metadata": {
    "collapsed": false
   },
   "outputs": [],
   "source": [
    "def draw_beakers(time, noise_level):\n",
    "    for i, beaker in enumerate(beakers):\n",
    "        subplot(1, 2, i + 1)\n",
    "        img = beaker * (1 - exp(-time / T1[i])) + randn(*beaker.shape)*noise_level\n",
    "        img = abs(img)\n",
    "        imshow(img, vmin=0, vmax=1, cmap=\"gray\")\n",
    "        grid(False)\n",
    "        xticks([])\n",
    "        yticks([])\n",
    "        ylim([-5, 32])\n",
    "        title(\"Beaker %d\" % (i + 1))\n",
    "        text(8, -3, 'Time: %.2f sec' % time, fontdict=dict(size=12))\n",
    "\n",
    "interact(draw_beakers, time=FloatSlider(min=0, max=4.0, value=0), noise_level=FloatSlider(min=0, max=1.0, value=0.1));"
   ]
  },
  {
   "cell_type": "markdown",
   "metadata": {},
   "source": [
    "## T2 Contrast"
   ]
  },
  {
   "cell_type": "markdown",
   "metadata": {},
   "source": [
    "\n",
    "There is a second physical mechanism, in addition to the spin-lattice measurement, \n",
    "that influences the MR signal. This second mechanism is called spin-spin interaction\n",
    "(transverse relaxation).  This signaling mechanism is particularly important for\n",
    "functional magnetic resonance imaging and the BOLD signal.\n",
    "\n",
    "In describing the T1 signal, we treated the MR signal as a single unified\n",
    "vector.  In the example above, we explored what happens to the net\n",
    "magnetization of the MR signal when the vector is rotated 90 deg into the\n",
    "x-y plane.\n",
    "\n",
    "But we omitted any discussion the fact that the dipoles are assumed to be\n",
    "continuously precessing around the main axis together, in unison.\n",
    "Perhaps in a perfectly homogeneous environment, these rotating dipoles\n",
    "would precess at the Larmor frequency in perfect synchronization and we\n",
    "could treat the single large vector as we have.\n",
    "\n",
    "But in practice, the  dipoles within a single voxel of a functional image\n",
    "each experience slightly different magnetic field environments.\n",
    "Consequently, they each have their own individual Larmor frequencies,\n",
    "proportional to the magnetic field that they experience. An important\n",
    "second mechanism of MR is a consequence of the fact that the individual\n",
    "dipoles each have their own local magnetic field and the synchrony soon\n",
    "dissipate.\n",
    "\n",
    "\n",
    "Suppose  we have a large sample of dipoles that are spinning together in\n",
    "perfect phase.  We can specify their orientation as an angle in this\n",
    "plane, theta.  Let's assume they all share a common angle\n"
   ]
  },
  {
   "cell_type": "code",
   "execution_count": null,
   "metadata": {
    "collapsed": false
   },
   "outputs": [],
   "source": [
    "n_samples = 10000\n",
    "theta = zeros(n_samples)"
   ]
  },
  {
   "cell_type": "markdown",
   "metadata": {},
   "source": [
    "The position of the spins in the $(x, y)$ plane will be"
   ]
  },
  {
   "cell_type": "code",
   "execution_count": null,
   "metadata": {
    "collapsed": false
   },
   "outputs": [],
   "source": [
    "spins = [cos(theta), sin(theta)]"
   ]
  },
  {
   "cell_type": "markdown",
   "metadata": {},
   "source": [
    "And they will all fall at the same position"
   ]
  },
  {
   "cell_type": "code",
   "execution_count": null,
   "metadata": {
    "collapsed": false
   },
   "outputs": [],
   "source": [
    "subplot(111, aspect=\"equal\")\n",
    "plot(spins[0], spins[1], \"o\")\n",
    "xlim(-2, 2)\n",
    "ylim(-2, 2)\n",
    "xlabel(\"x\")\n",
    "ylabel(\"y\");"
   ]
  },
  {
   "cell_type": "markdown",
   "metadata": {},
   "source": [
    "The total magnetization, summed across all the dipoles, is the vector\n",
    "length of the sum of these spins "
   ]
  },
  {
   "cell_type": "code",
   "execution_count": null,
   "metadata": {
    "collapsed": false
   },
   "outputs": [],
   "source": [
    "avg_pos = sum(spins, axis=1) / n_samples\n",
    "net_mag = sqrt(sum(square(avg_pos)))\n",
    "print \"Net magnetization: %.4f\" % net_mag"
   ]
  },
  {
   "cell_type": "markdown",
   "metadata": {},
   "source": [
    "Now, suppose that spins are precessing at slightly different rates.  So\n",
    "after a few moments in time they do not fall at exactly the same angle.\n",
    "We can express this by creating a new vector theta that has some\n",
    "variability in it."
   ]
  },
  {
   "cell_type": "code",
   "execution_count": null,
   "metadata": {
    "collapsed": false
   },
   "outputs": [],
   "source": [
    "theta = rand(n_samples) * 0.5  # Uniform random number generator"
   ]
  },
  {
   "cell_type": "markdown",
   "metadata": {},
   "source": [
    "Here is the distribution of the angles"
   ]
  },
  {
   "cell_type": "code",
   "execution_count": null,
   "metadata": {
    "collapsed": false
   },
   "outputs": [],
   "source": [
    "hist(theta)\n",
    "xlabel('Angle')\n",
    "ylabel('Number of spins')\n",
    "xlim(0, 2 * pi)\n",
    "xticks([0, pi / 2, pi, 3 * pi / 2, 2 * pi],\n",
    "       [\"0\", r\"$\\frac{\\pi}{2}$\", \"$\\pi$\", r\"$\\frac{3\\pi}{2}$\", \"$2\\pi$\"],\n",
    "       size=14);"
   ]
  },
  {
   "cell_type": "markdown",
   "metadata": {},
   "source": [
    "Going through the same process we can make a plot of the spin positions"
   ]
  },
  {
   "cell_type": "code",
   "execution_count": null,
   "metadata": {
    "collapsed": false
   },
   "outputs": [],
   "source": [
    "spins = [cos(theta), sin(theta)]\n",
    "subplot(111, aspect=\"equal\")\n",
    "plot(spins[0], spins[1], 'o')\n",
    "xlim(-2, 2)\n",
    "ylim(-2, 2)\n",
    "xlabel('x'),\n",
    "ylabel('y');"
   ]
  },
  {
   "cell_type": "markdown",
   "metadata": {},
   "source": [
    "Now, you can see that the net magnetization is somewhat smaller"
   ]
  },
  {
   "cell_type": "code",
   "execution_count": null,
   "metadata": {
    "collapsed": false
   },
   "outputs": [],
   "source": [
    "avg_pos = sum(spins, axis=1) / n_samples\n",
    "net_mag = sqrt(sum(square(avg_pos)))\n",
    "print \"Net magnetization: %.4f\" % net_mag"
   ]
  },
  {
   "cell_type": "markdown",
   "metadata": {},
   "source": [
    "If the spins grow even further out of phase, say they are spread over a\n",
    "full $\\pi$ radians (180 degrees), then we have a dramatic reduction in the\n",
    "net magnetization"
   ]
  },
  {
   "cell_type": "code",
   "execution_count": null,
   "metadata": {
    "collapsed": false
   },
   "outputs": [],
   "source": [
    "theta = rand(n_samples) * pi\n",
    "hist(theta)\n",
    "xlabel('Angle')\n",
    "ylabel('Number of spins')\n",
    "xlim(0, 2 * pi)\n",
    "xticks([0, pi / 2, pi, 3 * pi / 2, 2 * pi],\n",
    "       [\"0\", r\"$\\frac{\\pi}{2}$\", \"$\\pi$\", r\"$\\frac{3\\pi}{2}$\", \"$2\\pi$\"],\n",
    "       size=14);"
   ]
  },
  {
   "cell_type": "code",
   "execution_count": null,
   "metadata": {
    "collapsed": false
   },
   "outputs": [],
   "source": [
    "spins = [cos(theta), sin(theta)]\n",
    "subplot(111, aspect=\"equal\")\n",
    "plot(spins[0], spins[1], 'o')\n",
    "xlim(-2, 2)\n",
    "ylim(-2, 2)\n",
    "xlabel('x')\n",
    "ylabel('y')\n",
    "avg_pos = sum(spins, axis=1) / n_samples\n",
    "net_mag = sqrt(sum(square(avg_pos)))\n",
    "print \"Net magnetization: %.4f\" % net_mag"
   ]
  },
  {
   "cell_type": "markdown",
   "metadata": {},
   "source": [
    "In a typical experiment, in which the spins are in an inhomogeneous\n",
    "environment, the spins spread out more and more with time, and the\n",
    "transverse magnetization declines.  The loss of signal from this\n",
    "spin-dephasing mechanism follows an exponential time constant."
   ]
  },
  {
   "cell_type": "code",
   "execution_count": null,
   "metadata": {
    "collapsed": false
   },
   "outputs": [],
   "source": [
    "t_T2 = arange(0.01, 0.3, 0.01)  # Time in secs\n",
    "T2_white = 0.08              # T2 for white matter\n",
    "T2_gray = 0.11               # T2 for gray matter\n",
    "MzG_T2 = Mo * exp(-t_T2 / T2_gray)\n",
    "MzW_T2 = Mo * exp(-t_T2 / T2_white)\n",
    "plot(t_T2, MzG_T2, 'k', label=\"Gray\")\n",
    "plot(t_T2, MzW_T2, 'gray', linestyle=\"--\", label=\"White\")\n",
    "xlabel('Time (s)')\n",
    "ylabel('Transverse magnetization (T2)')\n",
    "legend();"
   ]
  },
  {
   "cell_type": "markdown",
   "metadata": {},
   "source": [
    "Experimental measurements of spin-spin decay shows that it occurs at a\n",
    "much  faster rate than spin-lattice. Comparison of T1 (spin-lattice) and\n",
    "T2 (spin-spin) decay constants at various B0 field strengths are:\n",
    "\n",
    "<table>\n",
    "    <tr>\n",
    "        <td></td>\n",
    "        <td colspan=3><b>T1</b></td>\n",
    "        <td colspan=3><b>T2</b></td>\n",
    "    </tr>\n",
    "    <tr>\n",
    "        <td><b>Field</b></td>\n",
    "        <td><i>1.5T</i></td>\n",
    "        <td><i>3.0T</i></td>\n",
    "        <td><i>4.0T</i></td>\n",
    "        <td><i>1.5T</i></td>\n",
    "        <td><i>3.0T</i></td>\n",
    "        <td><i>4.0T</i></td>\n",
    "    </tr>\n",
    "    <tr>\n",
    "        <td><i>White</i></td>\n",
    "        <td>0.64</td>\n",
    "        <td>0.86</td>\n",
    "        <td>1.04</td>\n",
    "        <td>0.08</td>\n",
    "        <td>0.08</td>\n",
    "        <td>0.05</td>\n",
    "    </tr>\n",
    "    <tr>\n",
    "        <td><i>Gray</i></td>\n",
    "        <td>0.88</td>\n",
    "        <td>1.20</td>\n",
    "        <td>1.40</td>\n",
    "        <td>0.08</td>\n",
    "        <td>0.11</td>\n",
    "        <td>0.05</td>\n",
    "    </tr>\n",
    "</table>\n",
    "\n",
    "**Source:** Jezzard and Clare, Chapter 3 in the Oxford fMRI Book\n",
    "\n",
    "Also, notice that the peak difference occurs a very short time compared to the T1 difference."
   ]
  },
  {
   "cell_type": "code",
   "execution_count": null,
   "metadata": {
    "collapsed": false
   },
   "outputs": [],
   "source": [
    "plot(t_T1, abs(MzG_T1 - MzW_T1), label=\"T1\")\n",
    "plot(t_T2, abs(MzG_T2 - MzW_T2), label=\"T2\")\n",
    "xlabel('Time (s)')\n",
    "ylabel('Transverse magnetization difference')\n",
    "legend();"
   ]
  },
  {
   "cell_type": "markdown",
   "metadata": {},
   "source": [
    "#### Question 7"
   ]
  },
  {
   "cell_type": "markdown",
   "metadata": {},
   "source": [
    "Suppose you wanted to measure brain structure, and you were\n",
    "particularly interested in gray/white differences.  Based on the T1 and\n",
    "T2 curves we have drawn, would you choose to distinguish these two\n",
    "tissues using T1 or T2? "
   ]
  },
  {
   "cell_type": "markdown",
   "metadata": {},
   "source": [
    "The T2 difference is so short that measurement of the T2 signal would be a\n",
    "problem were it not for the invention of an important measurement method\n",
    "called 'Spin Echo'.  We will begin the next tutorial by explaining that\n",
    "idea.\n",
    "\n",
    "In fact, there are many essential imaging ideas that we have not yet\n",
    "explored.  For example, how can we measure T1 and T2 separately? Perhaps\n",
    "most importantly, how can we form an image? These are the topics we will\n",
    "take up in the next tutorial."
   ]
  }
 ],
 "metadata": {
  "kernelspec": {
   "display_name": "Python 2",
   "language": "python",
   "name": "python2"
  },
  "language_info": {
   "codemirror_mode": {
    "name": "ipython",
    "version": 2
   },
   "file_extension": ".py",
   "mimetype": "text/x-python",
   "name": "python",
   "nbconvert_exporter": "python",
   "pygments_lexer": "ipython2",
   "version": "2.7.6"
  }
 },
 "nbformat": 4,
 "nbformat_minor": 0
}

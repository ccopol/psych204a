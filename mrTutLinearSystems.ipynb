{
 "metadata": {
  "name": "mrTutLinearSystems"
 },
 "nbformat": 3,
 "nbformat_minor": 0,
 "worksheets": [
  {
   "cells": [
    {
     "cell_type": "heading",
     "level": 1,
     "metadata": {},
     "source": [
      "Linear Systems Tutorial"
     ]
    },
    {
     "cell_type": "markdown",
     "metadata": {},
     "source": [
      "**Class:** Psych 204B\n",
      "\n",
      "**Tutorial:** Linear Systems\n",
      "\n",
      "**Author:** Wandell\n",
      "\n",
      "**Date:** 3.31.04\n",
      "\n",
      "**Duration:** 30 minutes\n",
      "\n",
      "**Copyright:** Stanford University, Brian Wandell"
     ]
    },
    {
     "cell_type": "markdown",
     "metadata": {},
     "source": [
      "Checked: 10/13/09 JW\n",
      "\n",
      "Checked: 10/13/10 BW\n",
      "\n",
      "Translated to Python by Michael Waskom, October 2012"
     ]
    },
    {
     "cell_type": "code",
     "collapsed": false,
     "input": [
      "# First set up some plotting things as usual\n",
      "%pylab inline\n",
      "import matplotlib as mpl\n",
      "mpl.rcParams[\"figure.figsize\"] = (9, 6)\n",
      "mpl.rcParams[\"axes.grid\"] = True\n",
      "mpl.rcParams[\"lines.linewidth\"] = 1.5"
     ],
     "language": "python",
     "metadata": {},
     "outputs": []
    },
    {
     "cell_type": "markdown",
     "metadata": {},
     "source": [
      "This tutorial introduces the student to the basic methods of linear\n",
      "systems theory, focusing on the tools of shift-invariant linear systems.\n",
      "The tutorial introduces the idea of superposition,  shift-invariance,\n",
      "and impulse response functions. These ideas are fundamental to many\n",
      "methods and analyses used in functional neuroimaging and through\n",
      "engineering and science.\n",
      "\n",
      "Linear systems theory is a method of characterizing certain types of\n",
      "common systems.  A system is something that has an input and an output,\n",
      "and thus we can think of it as a function output = L(input).\n",
      "\n",
      "For example, the system might be an optical element, like a lens, that\n",
      "takes an image as an input and produces another image as an output. Or,\n",
      " this system may be a biological system that we are measuring, for\n",
      "instance the BOLD response that is the consequence of neural activity.\n",
      "\n",
      "Characterizing the complete input-output properties of a system by \n",
      "exhaustive  measurement is usually impossible. When a system qualifies\n",
      "as a linear system, it is possible to use the responses to a small set\n",
      "of inputs to predict the response to any possible input. This can save\n",
      "the scientist enormous amounts of work, and makes it possible to\n",
      "characterize the system completely.\n",
      "\n",
      "Not all systems can be described using linear systems theory. To use\n",
      "linear methods to describe a system, it must satisfy the basic principle\n",
      "of superposition."
     ]
    },
    {
     "cell_type": "heading",
     "level": 3,
     "metadata": {},
     "source": [
      "The principle of superposition"
     ]
    },
    {
     "cell_type": "markdown",
     "metadata": {},
     "source": [
      "The principle of superposition in words is simply this:\n",
      "\n",
      "If the response to input A is Ra, and the response to input B is\n",
      "Rb, then the response to the sum of A and B (A+B) is the sum of the\n",
      "responses: Ra + Rb.\n",
      "\n",
      "In equation form this is\n",
      "\n",
      "- If L(A) = Ra and L(B) = Rb, then L(A + B) = Ra + Rb\n",
      "\n",
      "There is one simple consequence of superposition that is often taken as\n",
      "a special case and named the principle of homogeneity.  \n",
      "Suppose that the inputs are equal, namely, A = B. \n",
      "It is easy to see that L(A + A) = Ra + Ra and thus L(2A) = 2Ra. \n",
      "In general, if s is any scalar, a linear system will satisfy the rule:\n",
      "\n",
      "- If L(A) = Ra, then L(sA) = sRa\n",
      "\n",
      "An enormous number of simple systems satisfy superposition over a fairly\n",
      "large range of inputs.  Linear systems theory is a basic tool used\n",
      "throughout engineering, physics, and statistical modeling.  \n",
      " \n",
      "In this tutorial, we will build up some of the tools of linear systems\n",
      "theory.  These include the use of matrices to describe a linear system,\n",
      "the very important special case of a shift-invariant linear system, and\n",
      "the associated ideas of the impulse response function\n",
      "\n",
      "All of these ideas are used in functional neuroimaging.  In fact, nearly\n",
      "every field that uses linear systems theory develops its own terminology\n",
      "(jargon) to describe the general ideas of linear systems theory in the\n",
      "specific context of that field.   \n",
      "\n",
      "In neuroimaging, the hemodynamic response function (HRF) is the impulse\n",
      "response function. The analysis of the modulations in block-design\n",
      "experiments are closely connected to the system transfer function."
     ]
    },
    {
     "cell_type": "heading",
     "level": 3,
     "metadata": {},
     "source": [
      "Impulses and shift-invariance"
     ]
    },
    {
     "cell_type": "markdown",
     "metadata": {},
     "source": [
      "time varying stimuli can be thought of as a series of impulses at\n",
      "different levels. We can approximate any complex stimulus as if it were\n",
      "simply the sum of a number of shifted and scaled impulses. \n",
      "\n",
      "A shift-invariant linear system is a special case when the system\n",
      "responds in the same way to every impulse, no matter when the impulse\n",
      "occurs in time.  That is, it doesn't matter what happened just before the\n",
      "impulse or what happens just after the impulse.  The response to the\n",
      "impulse will be the same.\n",
      "\n",
      "The only difference in the response to different impulses is that the\n",
      "responses are shifted in time to correspond to the impulse and multiplied\n",
      "by a scalar that equals the size of the impulse.  \n",
      "\n",
      "The significance of the principle of superposition is this:\n",
      "\n",
      "If we know the impulse response function, we can predict the response to\n",
      "any stimulus (combinations of impulses).  We compute the response to each\n",
      "impulse and then add up all the results.\n",
      "\n",
      "Practically, to characterize shift-invariant linear systems, then we need\n",
      "to measure only one thing: the way the system responds to an impulse of a\n",
      "particular intensity. This response is called the impulse response\n",
      "function of the system. \n",
      "\n",
      "The analysis of BOLD data presupposes that the responses are\n",
      "shift-invariant linear systems.  In this field, the impulse response\n",
      "function is called the hemodynamic response function, or HRF.\n",
      "\n",
      "In neuroimaging, the principles of  superposition and shift invariance\n",
      "are essential to the ideas used in rapid event-related designs: The\n",
      "underlying assumption is that if you have two neural (or cognitive)\n",
      "events A and B occurring one after the other, then the BOLD response of A\n",
      "and the BOLD response of B  will be identical (but B will be shifted in\n",
      "time with respect to A) and thus total BOLD signal after these two events\n",
      "is a sum of two independent responses shifted in time:\n",
      "\n",
      "BOLD(A+B) = BOLD(A) + BOLD(B).\n",
      "\n",
      "\n",
      "Now, we do some simple calculations. But first, we define a function to plot\n",
      "a model hemodynamic response function."
     ]
    },
    {
     "cell_type": "code",
     "collapsed": false,
     "input": [
      "from scipy.special import gammaln\n",
      "def spm_hrf(RT, fMRI_T=16):\n",
      "    \"\"\"Python implementation of spm_hrf\"\"\"\n",
      "    _spm_Gpdf = lambda x, h, l: exp(h * log(l) + (h - 1) * log(x) - (l * x) - gammaln(h))\n",
      "    dt = RT / float(fMRI_T)\n",
      "    u = np.arange(1, int(32 / dt) + 1)\n",
      "    hrf = np.concatenate(([0.0], _spm_Gpdf(u, 6 , dt) - _spm_Gpdf(u, 16, dt) / 6))\n",
      "    idx = arange(int((32 / RT)) + 1) * fMRI_T\n",
      "    hrf = hrf[idx]\n",
      "    hrf = hrf / sum(hrf)\n",
      "    return hrf"
     ],
     "language": "python",
     "metadata": {},
     "outputs": []
    },
    {
     "cell_type": "markdown",
     "metadata": {},
     "source": [
      "Let's take a look at this model (or \"canonical\" function)"
     ]
    },
    {
     "cell_type": "code",
     "collapsed": false,
     "input": [
      "RT = 1  # Repetition time (sample every second)\n",
      "hrf = spm_hrf(RT)"
     ],
     "language": "python",
     "metadata": {},
     "outputs": []
    },
    {
     "cell_type": "code",
     "collapsed": false,
     "input": [
      "nT = len(hrf)   # Number of time steps\n",
      "t = arange(nT)  # Individual time samples of the HRF\n",
      "\n",
      "plot(t, hrf)\n",
      "xlabel('Time (sec)')\n",
      "ylabel('HRF level');"
     ],
     "language": "python",
     "metadata": {},
     "outputs": []
    },
    {
     "cell_type": "markdown",
     "metadata": {},
     "source": [
      "Notice that the hrf values sum to 1.\n",
      "\n",
      "This means that convolution with the HRF will preserve the mean of the input stimulus level."
     ]
    },
    {
     "cell_type": "code",
     "collapsed": false,
     "input": [
      "print sum(hrf)"
     ],
     "language": "python",
     "metadata": {},
     "outputs": []
    },
    {
     "cell_type": "markdown",
     "metadata": {},
     "source": [
      "Also, notice that the default SPM HRF has a post-stimulus undershoot."
     ]
    },
    {
     "cell_type": "markdown",
     "metadata": {},
     "source": [
      "Next we will plot several instances of impulse functions with the corresponding estimated hemodynamic response using this model. To create the estimated response trace, we will use the `convolve` function from the `numpy` package (loaded automatically as we are using IPython in `pylab` mode; see above).\n",
      "\n",
      "According to the principle of superposition the output should be the sum of the individual events. Thus, the output can be written as the sum of the outputs of stimuli 1 and 2.\n",
      "\n",
      "Convolution is a mathematical function that applies the superposition principle: basically it sums over all impulse responses shifted in time\n",
      "\n",
      "    output = sum(hrf * input[t])\n",
      "\n",
      "Since we'll be doing this a lot, let's write a function that takes a list of impulse times and makes the two plots."
     ]
    },
    {
     "cell_type": "code",
     "collapsed": false,
     "input": [
      "def plot_imp_hrf(times):\n",
      "    \"\"\"Make a plot of impulse functions and estimated hemodynamic response.\"\"\"\n",
      "    \n",
      "    # Get the predicted model\n",
      "    hrf = spm_hrf(1)\n",
      "    nT = len(hrf)\n",
      "    t = arange(nT)\n",
      "    \n",
      "    # Make impulse vectors for each input stim\n",
      "    stims = []\n",
      "    for time in times:\n",
      "        stim = zeros(nT)\n",
      "        stim[time] = 1\n",
      "        stims.append(stim)\n",
      "    \n",
      "    # Plot the stimulus\n",
      "    figure(figsize=(9, 4))\n",
      "    subplot(1, 2, 1)\n",
      "    plot(zeros(nT))\n",
      "    for time in times:\n",
      "        plot([time, time], [0, .5])\n",
      "    axis([0, 30, -0.5, 1])\n",
      "    xlabel(\"Time (s)\")\n",
      "    title(\"Stimulus\")\n",
      "    \n",
      "    # Convolve the stimulus with the hrf model\n",
      "    sum_stim = sum(stims, axis=0)\n",
      "    bold = convolve(sum_stim, hrf)\n",
      "    \n",
      "    # Plot the expected BOLD response\n",
      "    subplot(1, 2, 2)\n",
      "    plot(bold)\n",
      "    axis([0, 30, -0.5, 1])\n",
      "    xlabel(\"Time (s)\")\n",
      "    title(\"BOLD Response\")"
     ],
     "language": "python",
     "metadata": {},
     "outputs": []
    },
    {
     "cell_type": "markdown",
     "metadata": {},
     "source": [
      "Now let's see what this plot looks like for a simple single stimulus."
     ]
    },
    {
     "cell_type": "code",
     "collapsed": false,
     "input": [
      "plot_imp_hrf([1])"
     ],
     "language": "python",
     "metadata": {},
     "outputs": []
    },
    {
     "cell_type": "markdown",
     "metadata": {},
     "source": [
      "We see that if we move around the time of the stimulus impulse, it also changes the timing of the expected BOLD response"
     ]
    },
    {
     "cell_type": "code",
     "collapsed": false,
     "input": [
      "plot_imp_hrf([1])\n",
      "plot_imp_hrf([8])"
     ],
     "language": "python",
     "metadata": {},
     "outputs": []
    },
    {
     "cell_type": "markdown",
     "metadata": {},
     "source": [
      "Now, plot the stimulus and output of a linear system that responds to both stimulus impulses."
     ]
    },
    {
     "cell_type": "code",
     "collapsed": false,
     "input": [
      "plot_imp_hrf([1, 8])"
     ],
     "language": "python",
     "metadata": {},
     "outputs": []
    },
    {
     "cell_type": "heading",
     "level": 3,
     "metadata": {},
     "source": [
      "Block Design Experiments"
     ]
    },
    {
     "cell_type": "markdown",
     "metadata": {},
     "source": [
      "We will start with blocks of 2 events and then continue to longer blocks.\n",
      "We will examine how the number of events and the spacing between events\n",
      "affects the predicted bold signal."
     ]
    },
    {
     "cell_type": "markdown",
     "metadata": {},
     "source": [
      "**Example 1:** Two events that are spaced 4 seconds apart"
     ]
    },
    {
     "cell_type": "code",
     "collapsed": true,
     "input": [
      "plot_imp_hrf([1, 5])"
     ],
     "language": "python",
     "metadata": {},
     "outputs": []
    },
    {
     "cell_type": "markdown",
     "metadata": {},
     "source": [
      "**Example 2:** Two events that are spaced 2 seconds apart\n",
      "\n",
      "Note that here you get one peak and not 2 peaks.  Why? "
     ]
    },
    {
     "cell_type": "code",
     "collapsed": false,
     "input": [
      "plot_imp_hrf([1, 3])"
     ],
     "language": "python",
     "metadata": {},
     "outputs": []
    },
    {
     "cell_type": "markdown",
     "metadata": {},
     "source": [
      "**Example 3:**  3 events that are spaced  2s apart"
     ]
    },
    {
     "cell_type": "code",
     "collapsed": false,
     "input": [
      "plot_imp_hrf([1, 3, 5])"
     ],
     "language": "python",
     "metadata": {},
     "outputs": []
    },
    {
     "cell_type": "markdown",
     "metadata": {},
     "source": [
      "**Example 4:** 5 stimuli given 2 seconds -> block which is 10 seconds long\n",
      "\n",
      "What changed as you increased the number of stimuli? Why?"
     ]
    },
    {
     "cell_type": "code",
     "collapsed": false,
     "input": [
      "plot_imp_hrf([1, 3, 5, 7, 9])"
     ],
     "language": "python",
     "metadata": {},
     "outputs": []
    },
    {
     "cell_type": "heading",
     "level": 3,
     "metadata": {},
     "source": [
      "Thought Questions"
     ]
    },
    {
     "cell_type": "heading",
     "level": 4,
     "metadata": {},
     "source": [
      "Question 1"
     ]
    },
    {
     "cell_type": "markdown",
     "metadata": {},
     "source": [
      "Researchers presented a subject with an image of a face and measured the\n",
      "hemodynamic response to this image. Then they showed the same stimulus \n",
      "again  and found that the response peaked at the same time, but the \n",
      "amplitude of response was half the amplitude of the first presentation. \n",
      "Is the response for the second presentation expected\n",
      "from a linear system? Explain. "
     ]
    },
    {
     "cell_type": "heading",
     "level": 4,
     "metadata": {},
     "source": [
      "Question 2"
     ]
    },
    {
     "cell_type": "markdown",
     "metadata": {},
     "source": [
      "Researchers presented stimuli in 2 blocks. In the first block they\n",
      "presented flashing checkboards at a rate of 1Hz for 10 seconds. In the\n",
      "second block they presented flashing checkerboards at a rate of 1hz for\n",
      "20 seconds. How will the amplitude and/or duration of the block-response\n",
      "change between conditions? Explain."
     ]
    },
    {
     "cell_type": "heading",
     "level": 4,
     "metadata": {},
     "source": [
      "Question 3"
     ]
    },
    {
     "cell_type": "markdown",
     "metadata": {},
     "source": [
      "Researchers presented stimuli in 2 conditions. In the first condition\n",
      "they presented a tone for 1 second, waited for 8 seconds, and presented a\n",
      "second tone for 1 second. In the second condition, they presented a tone\n",
      "for 1 second, waited 1 second, and presented a second tone for 1 second.\n",
      "How will the response differ in amplitude and/or duration between the two\n",
      "conditions? A plot/graph will be useful in explaining the answer."
     ]
    }
   ],
   "metadata": {}
  }
 ]
}
{
 "metadata": {
  "name": "mrVisualization"
 },
 "nbformat": 3,
 "nbformat_minor": 0,
 "worksheets": [
  {
   "cells": [
    {
     "cell_type": "heading",
     "level": 1,
     "metadata": {},
     "source": [
      "Visualization"
     ]
    },
    {
     "cell_type": "markdown",
     "metadata": {},
     "source": [
      "**Class:**     Psych 204a\n",
      "\n",
      "**Tutorial:**  Visualization\n",
      "\n",
      "**Author:**    Dougherty, Bowen, Wandell\n",
      "\n",
      "**Date:**      2010.10.21\n",
      "\n",
      "**Duration:**  45 minutes\n",
      "\n",
      "**Copyright:** Stanford University, Robert F. Dougherty, R Bowen & BA Wandell\n",
      "\n",
      "Translated to Python by Grace Tang, 09/2013\n",
      "\n",
      "Purpose: \n",
      "\n",
      "The purpose of this tutorial is to illustrate the underlying visualization \n",
      "methods used in the analysis of MR data. The tutorial includes examples of \n",
      "tissue segmentation into gray matter and white matter, the definition of the \n",
      "surface boundary of the brain as a mesh, and related anatomical measurements, \n",
      "such as volume and surface area."
     ]
    },
    {
     "cell_type": "code",
     "collapsed": false,
     "input": [
      "# set up plotting, numpy/matplotlib, etc.\n",
      "%pylab inline\n",
      "import matplotlib as mpl\n",
      "mpl.rcParams[\"figure.figsize\"] = (8, 6)\n",
      "mpl.rcParams[\"axes.grid\"] = True\n",
      "from mpl_toolkits.axes_grid1 import make_axes_locatable\n",
      "from IPython.display import display\n",
      "\n",
      "\n",
      "import vtk"
     ],
     "language": "python",
     "metadata": {},
     "outputs": []
    },
    {
     "cell_type": "markdown",
     "metadata": {},
     "source": [
      "##Load a high-resolution T1-weighted MRI dataset of someone's head:"
     ]
    },
    {
     "cell_type": "code",
     "collapsed": false,
     "input": [
      "import scipy.io\n",
      "import nibabel as nib\n",
      "\n",
      "# load nifti files\n",
      "anat_file = nib.load('t1.nii.gz')\n",
      "brainMask_file = nib.load('t1_brain_mask.nii.gz')"
     ],
     "language": "python",
     "metadata": {},
     "outputs": []
    },
    {
     "cell_type": "markdown",
     "metadata": {},
     "source": [
      "Let's see what got loaded:"
     ]
    },
    {
     "cell_type": "code",
     "collapsed": false,
     "input": [
      "anat = anat_file.get_data()\n",
      "brainMask = brainMask_file.get_data()\n",
      "print anat.shape\n",
      "print brainMask.shape"
     ],
     "language": "python",
     "metadata": {},
     "outputs": []
    },
    {
     "cell_type": "markdown",
     "metadata": {},
     "source": [
      "The keys function displays the keys of the newly loaded python doctionary. \n",
      "anat contains the image data. We'll examine the brain mask later. \n",
      "\n",
      "We can also find out the size of physical space (in millimeters) that\n",
      "each image voxel represents. "
     ]
    },
    {
     "cell_type": "code",
     "collapsed": false,
     "input": [
      "anat_file.get_header().get_zooms()"
     ],
     "language": "python",
     "metadata": {},
     "outputs": []
    },
    {
     "cell_type": "markdown",
     "metadata": {},
     "source": [
      "In this case, the sides of the voxel measure about 0.8mm."
     ]
    },
    {
     "cell_type": "markdown",
     "metadata": {},
     "source": [
      "### Question 1\n",
      "\n",
      "a. What is the field of view of this image?\n",
      "\n",
      "b. What is the volume of one voxel?"
     ]
    },
    {
     "cell_type": "markdown",
     "metadata": {},
     "source": [
      "##Examine a slice from this dataset\n",
      "\n",
      "The T1-weighted MR data are stored in a 3d array called 'anat'. Here's\n",
      "one slice from the middle of this array:\n"
     ]
    },
    {
     "cell_type": "code",
     "collapsed": false,
     "input": [
      "z=90 # slice number\n",
      "\n",
      "fig, ax = plt.subplots(1)\n",
      "ax.matshow(anat[:,:,z])"
     ],
     "language": "python",
     "metadata": {},
     "outputs": []
    },
    {
     "cell_type": "markdown",
     "metadata": {},
     "source": [
      "We'll format the image to make it look nicer:"
     ]
    },
    {
     "cell_type": "code",
     "collapsed": false,
     "input": [
      "fig, ax = plt.subplots(1)\n",
      "images=[]\n",
      "images.append(ax.matshow(anat[:,:,z], cmap=matplotlib.cm.bone))\n",
      "ax.set_axis_off()\n",
      "ax.set_axes('tight')\n",
      "\n",
      "# add a colorbar\n",
      "ax = plt.gca()\n",
      "divider = make_axes_locatable(ax)\n",
      "cax = divider.append_axes(\"right\", size=\"5%\", pad=0.05)\n",
      "fig.colorbar(images[0], cax=cax)"
     ],
     "language": "python",
     "metadata": {},
     "outputs": []
    },
    {
     "cell_type": "markdown",
     "metadata": {},
     "source": [
      "In this T1-weighted image, tissues with long T1 values show up as dark\n",
      "(cerebro-spinal fluid, CSF), medium T1 values are gray (gray matter, GM,\n",
      "and muscle), and shorter T1 values are white (white matter, WM,\n",
      "subcutaneous fat in the scalp). In addition to T1-weighting, this image\n",
      "includes some proton density weighting. That's why bone and air, which\n",
      "have relatively little free water, also show up as dark. Because this\n",
      "image is not based on a quantitative MR method, the image intensity\n",
      "values are in arbitrary units, so only the realtive intensities (image\n",
      "contrast) are important."
     ]
    },
    {
     "cell_type": "markdown",
     "metadata": {},
     "source": [
      "### Question 2\n",
      "\n",
      "Try to identify the different tissue types in the image.\n",
      "\n",
      "a. cerebro-spinal fluid (CSF)\n",
      "\n",
      "b. White matter (WM)\n",
      "\n",
      "c. Gray matter (GM)\n",
      "\n",
      "d. bone\n",
      "\n",
      "e. muscle\n",
      "\n",
      "f. scalp\n",
      "\n",
      "g. air"
     ]
    },
    {
     "cell_type": "markdown",
     "metadata": {},
     "source": [
      "Now let's add some labels so that you can see how well you did:\n"
     ]
    },
    {
     "cell_type": "code",
     "collapsed": false,
     "input": [
      "fig, ax = plt.subplots(1)\n",
      "images=[]\n",
      "images.append(ax.matshow(anat[:,:,z], cmap=matplotlib.cm.bone))\n",
      "ax.set_axis_off()\n",
      "ax.set_axes('tight')\n",
      "\n",
      "# add a colorbar\n",
      "ax = plt.gca()\n",
      "divider = make_axes_locatable(ax)\n",
      "cax = divider.append_axes(\"right\", size=\"5%\", pad=0.05)\n",
      "fig.colorbar(images[0], cax=cax)\n",
      "\n",
      "# add text\n",
      "bg = [1,0,0,.4]\n",
      "tx = [1,1,1,1]\n",
      "ax.text(100,116,'CSF', fontsize=12, backgroundcolor=bg, color=tx)\n",
      "ax.text(200,140,'WM', fontsize=12, backgroundcolor=bg, color=tx)\n",
      "ax.text(112,48,'GM', fontsize=12, backgroundcolor=bg, color=tx)\n",
      "ax.text(150,195,'bone', fontsize=12, backgroundcolor=bg, color=tx)\n",
      "ax.text(170,35,'muscle', fontsize=12, backgroundcolor=bg, color=tx)\n",
      "ax.text(80,200,'scalp', fontsize=12, backgroundcolor=bg, color=tx)\n",
      "ax.text(20,30,'air', fontsize=12, backgroundcolor=bg, color=tx)"
     ],
     "language": "python",
     "metadata": {},
     "outputs": []
    },
    {
     "cell_type": "markdown",
     "metadata": {},
     "source": [
      "##Working in three dimensions\n",
      "\n",
      "Remember that this is a 3d dataset. Let's look at all the slices as a\n",
      "simple movie.\n"
     ]
    },
    {
     "cell_type": "code",
     "collapsed": false,
     "input": [
      "import time, sys\n",
      "from IPython.core.display import clear_output\n",
      "\n",
      "fig, ax = plt.subplots(1)\n",
      "for slice in range(anat.shape[2]):\n",
      "    ax.matshow(anat[:,:,slice], cmap=matplotlib.cm.bone)\n",
      "    time.sleep(0.1)\n",
      "    clear_output()\n",
      "    display(fig,ax)\n",
      "    ax.cla()\n",
      "plt.close()"
     ],
     "language": "python",
     "metadata": {},
     "outputs": []
    },
    {
     "cell_type": "markdown",
     "metadata": {},
     "source": [
      "We can also show the middle slice of each axis"
     ]
    },
    {
     "cell_type": "code",
     "collapsed": false,
     "input": [
      "fig = plt.figure(figsize=(12,8))\n",
      "ax1 = fig.add_subplot(1,3,3)\n",
      "ax2 = fig.add_subplot(1,3,2)\n",
      "ax3 = fig.add_subplot(1,3,1)\n",
      "ax1.matshow(np.rot90(anat[anat.shape[0]/2,:,:]), cmap=matplotlib.cm.bone)\n",
      "ax2.matshow(np.rot90(anat[:,anat.shape[1]/2,:]), cmap=matplotlib.cm.bone)\n",
      "ax3.matshow(np.rot90(anat[:,:,anat.shape[2]/2]), cmap=matplotlib.cm.bone)\n",
      "    "
     ],
     "language": "python",
     "metadata": {},
     "outputs": []
    },
    {
     "cell_type": "markdown",
     "metadata": {},
     "source": [
      "##Segment the brain tissue\n",
      "\n",
      "The first step to segmenting the interesting brain tissues is to remove\n",
      "the annoying scalp and skull. This is often called \"brain extraction.\" It\n",
      "can be done manually, by carefully labeling each voxel. There are also\n",
      "some very good algorithms that can do this task automatically. We've\n",
      "applied one of these tools (FSL BET: http://www.fmrib.ox.ac.uk/fsl/bet2/)\n",
      "and saved the resulting brain mask. \n",
      "\n",
      "Here is the brain mask for the same middle slice that we saw above. This\n",
      "'mask' is a simple image with 1's indicating brain tissue and 0's\n",
      "indicating non-brain tissue.\n"
     ]
    },
    {
     "cell_type": "code",
     "collapsed": false,
     "input": [
      "fig, ax = subplots(1)\n",
      "images=[]\n",
      "images.append(ax.matshow(brainMask[:,:,90], cmap=matplotlib.cm.bone))\n",
      "ax.set_axis_off()\n",
      "ax.set_axes('tight')\n",
      "\n",
      "# add a colorbar\n",
      "ax = plt.gca()\n",
      "divider = make_axes_locatable(ax)\n",
      "cax = divider.append_axes(\"right\", size=\"5%\", pad=0.05)\n",
      "fig.colorbar(images[0], cax=cax)"
     ],
     "language": "python",
     "metadata": {},
     "outputs": []
    },
    {
     "cell_type": "markdown",
     "metadata": {},
     "source": [
      "### Question 3\n",
      "\n",
      "What is the volume of the brain in cubic centimeters?\n",
      "Hint: the volume of one voxel in cubic mm is prod(voxDim).\n"
     ]
    },
    {
     "cell_type": "markdown",
     "metadata": {},
     "source": [
      "Now apply the brain mask by setting all non-brain voxels to 0 (multiply all non-brain voxels by 0):\n"
     ]
    },
    {
     "cell_type": "code",
     "collapsed": false,
     "input": [
      "brain = anat*brainMask\n",
      "\n",
      "# plot\n",
      "fig, ax = subplots(1)\n",
      "images=[]\n",
      "images.append(ax.matshow(brain[:,:,90], cmap=matplotlib.cm.bone))\n",
      "ax.set_axis_off()\n",
      "ax.set_axes('tight')\n",
      "\n",
      "# add a colorbar\n",
      "ax = plt.gca()\n",
      "divider = make_axes_locatable(ax)\n",
      "cax = divider.append_axes(\"right\", size=\"5%\", pad=0.05)\n",
      "fig.colorbar(images[0], cax=cax)\n"
     ],
     "language": "python",
     "metadata": {},
     "outputs": []
    },
    {
     "cell_type": "markdown",
     "metadata": {},
     "source": [
      "Let's look at a histogram of the image intensities in the brain.\n"
     ]
    },
    {
     "cell_type": "code",
     "collapsed": false,
     "input": [
      "fig, ax = subplots(1)\n",
      "hist(brain.ravel(), 100)\n",
      "xlabel('Raw intensity'); ylabel('Pixel count');\n"
     ],
     "language": "python",
     "metadata": {},
     "outputs": []
    },
    {
     "cell_type": "markdown",
     "metadata": {},
     "source": [
      "There are many voxels with an intensity of zero, including all the stuff\n",
      "outside the brain that we set to zero above. Let's rescale the axes to\n",
      "make the more interesting features evident:"
     ]
    },
    {
     "cell_type": "code",
     "collapsed": false,
     "input": [
      "fig, ax = subplots(1)\n",
      "hist(brain.ravel(), 100)\n",
      "xlabel('Raw intensity'); ylabel('Pixel count');\n",
      "ax.set_ylim([0, 1e5])\n",
      "ax.set_xlim([0, 10000])\n"
     ],
     "language": "python",
     "metadata": {},
     "outputs": []
    },
    {
     "cell_type": "markdown",
     "metadata": {},
     "source": [
      "###Question 4\n",
      "\n",
      "a. How many peaks are there in this histogram?\n",
      "\n",
      "b. What tissue types do these peaks represent?\n"
     ]
    },
    {
     "cell_type": "markdown",
     "metadata": {},
     "source": [
      "Here's a line that is likely to divide white and gray matter intensities\n"
     ]
    },
    {
     "cell_type": "code",
     "collapsed": false,
     "input": [
      "wmThreshold = 6900\n",
      "\n",
      "fig, ax = subplots(1)\n",
      "hist(brain.ravel(), 100)\n",
      "xlabel('Raw intensity'); ylabel('Pixel count');\n",
      "# plot the white matter threshold\n",
      "vlines(wmThreshold,0,1e5, color='red')\n",
      "ax.text(wmThreshold-1500,10.2e4,'white matter threshold', fontsize=12, color='red')\n",
      "ax.set_ylim([0, 1e5])\n",
      "ax.set_xlim([0, 10000])"
     ],
     "language": "python",
     "metadata": {},
     "outputs": []
    },
    {
     "cell_type": "markdown",
     "metadata": {},
     "source": [
      "##Segment out the white matter based on this boundary\n"
     ]
    },
    {
     "cell_type": "code",
     "collapsed": false,
     "input": [
      "whiteMatter = brain > wmThreshold"
     ],
     "language": "python",
     "metadata": {},
     "outputs": []
    },
    {
     "cell_type": "markdown",
     "metadata": {},
     "source": [
      "Clean up the segmentation with a little smoothing. For a real\n",
      "segmentation, we would also want to have a human expert edit the\n",
      "segmentation to ensure that it is correct.\n"
     ]
    },
    {
     "cell_type": "code",
     "collapsed": false,
     "input": [
      "from scipy.ndimage.filters import gaussian_filter\n",
      "\n",
      "whiteMatter = gaussian_filter(double(whiteMatter), 1.5)>0.5\n"
     ],
     "language": "python",
     "metadata": {},
     "outputs": []
    },
    {
     "cell_type": "markdown",
     "metadata": {},
     "source": [
      "##Inspect the segmentation\n",
      "\n",
      "Now we overlay the whitematter segmentation over the brain. "
     ]
    },
    {
     "cell_type": "code",
     "collapsed": false,
     "input": [
      "lighterBrain = brain / float(brain.max()) # reduce the intensity of the brain image\n",
      "\n",
      "fig, ax = plt.subplots(1)\n",
      "for slice in range(whiteMatter.shape[2]):\n",
      "    # wherever there is white matter, the brain image is less intense\n",
      "    ax.matshow(lighterBrain[:,:,slice]+whiteMatter[:,:,slice], cmap=matplotlib.cm.bone, vmax=1.0)\n",
      "    time.sleep(0.001)\n",
      "    clear_output()\n",
      "    display(fig,ax)\n",
      "    ax.cla()\n",
      "plt.close()"
     ],
     "language": "python",
     "metadata": {},
     "outputs": []
    },
    {
     "cell_type": "markdown",
     "metadata": {},
     "source": [
      "##Question 5\n",
      "What is the volume of the white matter in cubic centimeters?\n"
     ]
    },
    {
     "cell_type": "code",
     "collapsed": false,
     "input": [
      "# compute your answer here\n",
      "\n",
      "\n"
     ],
     "language": "python",
     "metadata": {},
     "outputs": []
    },
    {
     "cell_type": "markdown",
     "metadata": {},
     "source": [
      "## View the brain surface \n",
      "\n",
      "The notebook isn't quite ready for rendering 3d brains. So, to see what the 3d rendering of a brain looks like, visit the [CBrain brain browser](https://brainbrowser.cbrain.mcgill.ca/macaccview.html)."
     ]
    }
   ],
   "metadata": {}
  }
 ]
}